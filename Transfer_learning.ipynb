{
 "cells": [
  {
   "cell_type": "code",
   "execution_count": 1,
   "metadata": {
    "colab": {
     "base_uri": "https://localhost:8080/"
    },
    "collapsed": true,
    "id": "WhLDEnGw6xEg",
    "outputId": "c63ace9e-6905-4051-8f9c-dd5a2b9c063b"
   },
   "outputs": [],
   "source": [
    "# import packages\n",
    "import pickle\n",
    "import matplotlib.pyplot as plt\n",
    "import copy\n",
    "\n",
    "import torch\n",
    "import torch.autograd as autograd\n",
    "import torch.nn as nn\n",
    "import torch.nn.functional as F\n",
    "import torch.optim as optim \n",
    "import numpy as np\n",
    "from torch.utils.data import Dataset\n",
    "import torchvision.models as models\n",
    "from torchvision import transforms as T\n",
    "\n",
    "from sklearn.metrics import confusion_matrix\n",
    "import itertools\n",
    "\n",
    "%matplotlib inline"
   ]
  },
  {
   "cell_type": "code",
   "execution_count": 3,
   "metadata": {},
   "outputs": [
    {
     "name": "stdout",
     "output_type": "stream",
     "text": [
      "{'face': array([[[ 67,  70,  74, ..., 130, 131, 132],\n",
      "        [ 67,  70,  74, ..., 128, 128, 128],\n",
      "        [ 67,  70,  74, ..., 126, 123, 121],\n",
      "        ...,\n",
      "        [ 76,  72,  65, ...,  93,  98, 101],\n",
      "        [ 78,  74,  67, ...,  94, 101, 105],\n",
      "        [ 79,  75,  69, ...,  94, 103, 108]],\n",
      "\n",
      "       [[ 67,  68,  70, ..., 114, 116, 117],\n",
      "        [ 67,  68,  70, ..., 113, 113, 114],\n",
      "        [ 68,  69,  71, ..., 110, 110, 109],\n",
      "        ...,\n",
      "        [ 49,  47,  43, ...,  51,  57,  60],\n",
      "        [ 47,  45,  43, ...,  46,  53,  57],\n",
      "        [ 46,  45,  43, ...,  43,  51,  56]],\n",
      "\n",
      "       [[ 75,  75,  77, ..., 115, 118, 120],\n",
      "        [ 74,  75,  77, ..., 114, 116, 117],\n",
      "        [ 73,  75,  78, ..., 111, 111, 111],\n",
      "        ...,\n",
      "        [ 54,  52,  48, ...,  65,  71,  74],\n",
      "        [ 53,  52,  49, ...,  61,  68,  72],\n",
      "        [ 53,  51,  49, ...,  58,  66,  71]]], dtype=uint8), 'label': 'without_mask'}\n"
     ]
    }
   ],
   "source": [
    "\n",
    "# load dataset\n",
    "data_dict = pickle.load(open('obj_dict.dat', 'rb'))\n",
    "\n",
    "dataset = data_dict['added_filter_20_dataset_chw']\n",
    "dataset = dataset['data']\n",
    "print(dataset[0])"
   ]
  },
  {
   "cell_type": "code",
   "execution_count": 4,
   "metadata": {
    "colab": {
     "base_uri": "https://localhost:8080/",
     "height": 268
    },
    "id": "KsDqxQ2_tfT8",
    "outputId": "ce42b5e2-a875-4015-d361-4e7bbfd0a356"
   },
   "outputs": [
    {
     "data": {
      "image/png": "[encoded data removed]",
      "text/plain": [
       "<Figure size 432x288 with 1 Axes>"
      ]
     },
     "metadata": {},
     "output_type": "display_data"
    }
   ],
   "source": [
    "# A sample img in the dataset\n",
    "plt.imshow(np.transpose(dataset[20]['face'],(1,2,0)));"
   ]
  },
  {
   "cell_type": "code",
   "execution_count": 17,
   "metadata": {
    "collapsed": true,
    "id": "KbVtmBEmB5ci"
   },
   "outputs": [],
   "source": [
    "# Construct the custom dataset class\n",
    "class MyDataset(Dataset):\n",
    "    def __init__(self, dataset):\n",
    "        self.dataset = dataset\n",
    "        self.label_dict = {'without_mask':0,'with_mask':1,'mask_weared_incorrect':2}\n",
    "    \n",
    "    def __getitem__(self, index):\n",
    "        img = self.dataset[index]['face']\n",
    "        label = self.label_dict[self.dataset[index]['label']]\n",
    "        img = torch.as_tensor(img, dtype=torch.float32)\n",
    "        #Normalize pixel values with mean = 0.5 and std = 0.5\n",
    "        img = (img/255-0.5)/0.5\n",
    "        label = torch.tensor(label)\n",
    "\n",
    "\n",
    "        return img, label\n",
    "    \n",
    "    def __len__(self):\n",
    "        return len(self.dataset)"
   ]
  },
  {
   "cell_type": "code",
   "execution_count": 18,
   "metadata": {
    "collapsed": true,
    "id": "yDhuHAMASQom"
   },
   "outputs": [],
   "source": [
    "face_dataset = MyDataset(dataset)\n",
    "dataset_size = len(dataset)\n",
    "\n",
    "# Split dataset into training set, validation set, and test set\n",
    "train_size = int(dataset_size * 0.6)\n",
    "val_size = int(dataset_size * 0.2)\n",
    "test_size = dataset_size - train_size - val_size\n",
    "\n",
    "train_dataset, val_dataset, test_dataset = torch.utils.data.random_split(face_dataset, [train_size, val_size, test_size])"
   ]
  },
  {
   "cell_type": "code",
   "execution_count": 19,
   "metadata": {
    "collapsed": true,
    "id": "4Zy_xLEBeUXP"
   },
   "outputs": [],
   "source": [
    "BATCH_SIZE = 30\n",
    "\n",
    "train_loader = torch.utils.data.DataLoader(train_dataset,\n",
    "                                          batch_size=BATCH_SIZE,\n",
    "                                          shuffle=True)\n",
    "\n",
    "val_loader = torch.utils.data.DataLoader(val_dataset,\n",
    "                                          batch_size=BATCH_SIZE,\n",
    "                                          shuffle=True)\n",
    "\n",
    "test_loader = torch.utils.data.DataLoader(test_dataset,\n",
    "                                          batch_size=BATCH_SIZE,\n",
    "                                          shuffle=True)"
   ]
  },
  {
   "cell_type": "code",
   "execution_count": 20,
   "metadata": {
    "collapsed": true,
    "id": "zOLjEzL1eWsV"
   },
   "outputs": [],
   "source": [
    "# Build a simple CNN \n",
    "class Net(nn.Module):\n",
    "    def __init__(self):\n",
    "        super(Net, self).__init__()\n",
    "        self.conv1 = nn.Conv2d(3, 20, 5, 1)    # input 3 channel, because rgb image. 20 filters, 5x5 size\n",
    "        self.conv2 = nn.Conv2d(20, 50, 5, 1)   # input 20 channel, previous layer has 20 filters. 50 filters, 5x5 size\n",
    "        self.fc1 = nn.Linear(13*13*50, 500)      # 13*13*50 --> 500 linear layer\n",
    "        self.fc2 = nn.Linear(500, 3)          # 500 --> 3 linear layer\n",
    "\n",
    "    def forward(self, x):  \n",
    "        x = F.relu(self.conv1(x)) \n",
    "        x = F.max_pool2d(x, 2, 2) \n",
    "        x = F.relu(self.conv2(x)) \n",
    "        x = F.max_pool2d(x, 2, 2) \n",
    "        x = x.view(-1, 13*13*50)   \n",
    "        x = F.relu(self.fc1(x))   \n",
    "        x = self.fc2(x)           \n",
    "        return F.log_softmax(x, dim=1)  "
   ]
  },
  {
   "cell_type": "code",
   "execution_count": 21,
   "metadata": {
    "collapsed": true,
    "id": "PXZjsXZtp0Un"
   },
   "outputs": [],
   "source": [
    "def train(model, device, train_loader, optimizer, epoch, log_interval=10):\n",
    "    train_loss = 0\n",
    "    correct = 0\n",
    "    model.train() \n",
    "    for batch_idx, (img, label) in enumerate(train_loader):   \n",
    "        \n",
    "        img, label = img.to(device), label.to(device)     # use gpu if possible\n",
    "        optimizer.zero_grad()                                 # clean gradients\n",
    "        output = model(img)\n",
    "        loss = criterion(output, label)                      # what is loss\n",
    "        train_loss += loss.item()* len(img)\n",
    "\n",
    "        pred = output.argmax(dim=1, keepdim=True) # get the index of the max log-probability\n",
    "            \n",
    "\n",
    "        correct += pred.eq(label.view_as(pred)).sum().item()\n",
    "\n",
    "        loss.backward()                                       # calculate loss\n",
    "        optimizer.step()                                      # update weights (update filters in this case)\n",
    "        if batch_idx % log_interval == 0:\n",
    "            print(\"Train Epoch: {} [{}/{} ({:0f}%)]\\tLoss: {:.6f}\".format(\n",
    "                epoch, \n",
    "                batch_idx * len(img), \n",
    "                len(train_loader.dataset), \n",
    "                100. * batch_idx / len(train_loader), \n",
    "                loss.item()\n",
    "            ))\n",
    "        \n",
    "    train_loss /=len(train_loader.dataset)\n",
    "    accuracy = 100. * correct / len(train_loader.dataset)\n",
    "    print('\\nTrain set: Average loss: {:.4f}, Accuracy: {}/{} ({:.0f}%)\\n'.format(\n",
    "        train_loss,correct, len(train_loader.dataset), accuracy))\n",
    "    return train_loss, accuracy\n"
   ]
  },
  {
   "cell_type": "code",
   "execution_count": 22,
   "metadata": {
    "collapsed": true,
    "id": "pfs3L0FMM5fI"
   },
   "outputs": [],
   "source": [
    "def val(model, device, val_loader):\n",
    "    model.eval()\n",
    "    val_loss = 0\n",
    "    correct = 0\n",
    "    with torch.no_grad():\n",
    "        for img, label in val_loader:\n",
    "            img, label = img.to(device), label.to(device)\n",
    "            output = model(img) \n",
    "            loss = criterion(output, label)  \n",
    "            val_loss += loss.item()*len(img)\n",
    "                       \n",
    "            pred = output.argmax(dim=1, keepdim=True) # get the index of the max log-probability\n",
    "            \n",
    "\n",
    "            correct += pred.eq(label.view_as(pred)).sum().item()\n",
    "\n",
    "\n",
    "    val_loss /= len(val_loader.dataset)\n",
    "    accuracy = 100. * correct / len(val_loader.dataset)\n",
    "\n",
    "    print('Val set: Average loss: {:.4f}, Accuracy: {}/{} ({:.0f}%)\\n'.format(\n",
    "        val_loss, correct, len(val_loader.dataset), accuracy\n",
    "        ))\n",
    "    return val_loss, accuracy"
   ]
  },
  {
   "cell_type": "code",
   "execution_count": 23,
   "metadata": {
    "collapsed": true,
    "id": "BKSjnP61vgw5"
   },
   "outputs": [],
   "source": [
    "# This is a function to get all the predictions in the test set.\n",
    "def get_all_preds(model, loader,device):\n",
    "    all_preds = torch.tensor([])\n",
    "    targets =torch.tensor([])\n",
    "    with torch.no_grad():\n",
    "        for batch in loader:\n",
    "            img, label = batch\n",
    "            img, label = img.to(device), label.to(device)\n",
    "            preds = torch.Tensor.cpu(model(img))\n",
    "            all_preds = torch.cat(\n",
    "                (all_preds, preds)\n",
    "                ,dim=0\n",
    "            )\n",
    "            targets = torch.cat((targets,torch.Tensor.cpu(label)),dim = 0)\n",
    "    return all_preds, targets.int()"
   ]
  },
  {
   "cell_type": "code",
   "execution_count": 24,
   "metadata": {
    "collapsed": true,
    "id": "Bu95uCc5thII"
   },
   "outputs": [],
   "source": [
    "# function to plot the confusion matrix\n",
    "def plot_confusion_matrix(cm, classes, normalize=False, title='Confusion matrix', cmap=plt.cm.Blues):\n",
    "    if normalize:\n",
    "        cm = cm.astype('float') / cm.sum(axis=1)[:, np.newaxis]\n",
    "        print(\"Normalized confusion matrix\")\n",
    "    else:\n",
    "        print('Confusion matrix, without normalization')\n",
    "\n",
    "    print(cm)\n",
    "    plt.imshow(cm, interpolation='nearest', cmap=cmap)\n",
    "    plt.title(title)\n",
    "    plt.colorbar()\n",
    "    tick_marks = np.arange(len(classes))\n",
    "    plt.xticks(tick_marks, classes, rotation=45)\n",
    "    plt.yticks(tick_marks, classes)\n",
    "\n",
    "    fmt = '.2f' if normalize else 'd'\n",
    "    thresh = cm.max() / 2.\n",
    "    for i, j in itertools.product(range(cm.shape[0]), range(cm.shape[1])):\n",
    "        plt.text(j, i, format(cm[i, j], fmt), horizontalalignment=\"center\", color=\"white\" if cm[i, j] > thresh else \"black\")\n",
    "\n",
    "    plt.tight_layout()\n",
    "    plt.ylabel('True label')\n",
    "    plt.xlabel('Predicted label')"
   ]
  },
  {
   "cell_type": "code",
   "execution_count": 33,
   "metadata": {
    "id": "pABjhK0tpmBn"
   },
   "outputs": [
    {
     "name": "stdout",
     "output_type": "stream",
     "text": [
      "tensor([0.2047, 0.8647, 0.9306])\n"
     ]
    }
   ],
   "source": [
    "use_cuda = torch.cuda.is_available()  \n",
    "device = torch.device(\"cuda\" if use_cuda else \"cpu\")  \n",
    "lr = 0.01\n",
    "\n",
    "# Use pretrained Resnet50 for transfer learning\n",
    "# Load pretrained model and modify the last layer for 3-class classification\n",
    "# model = models.resnet50(pretrained=True)\n",
    "# num_ftrs = model.fc.in_features\n",
    "# model.fc = nn.Linear(num_ftrs, 3)\n",
    "\n",
    "#VGG16\n",
    "# model = models.vgg16(pretrained=True)\n",
    "# #print(model)\n",
    "# model.classifier[-1] = nn.Linear(in_features=4096, out_features=3)\n",
    "\n",
    "# Use a CNN\n",
    "model = Net()\n",
    "\n",
    "\n",
    "\n",
    "\n",
    "# # move model to the right device\n",
    "model.to(device)\n",
    "# define optimizer\n",
    "optimizer = optim.SGD(model.parameters(), lr=lr,momentum = 0.5) \n",
    "# Define Loss function\n",
    "\n",
    "weights = torch.tensor([1811,308,158],dtype = torch.float32).to(device)\n",
    "weights = weights / weights.sum()\n",
    "weights = 1-weights\n",
    "print(weights)\n",
    "\n",
    "\n",
    "criterion = nn.CrossEntropyLoss(weight = weights)\n"
   ]
  },
  {
   "cell_type": "code",
   "execution_count": 34,
   "metadata": {
    "colab": {
     "base_uri": "https://localhost:8080/"
    },
    "id": "ytqtJO9nr1Tx",
    "outputId": "fa910954-01fa-4840-fad8-2558bdc8a778"
   },
   "outputs": [
    {
     "name": "stdout",
     "output_type": "stream",
     "text": [
      "Train Epoch: 1 [0/1366 (0.000000%)]\tLoss: 1.105490\n",
      "Train Epoch: 1 [300/1366 (21.739130%)]\tLoss: 0.153103\n",
      "Train Epoch: 1 [600/1366 (43.478261%)]\tLoss: 0.281657\n",
      "Train Epoch: 1 [900/1366 (65.217391%)]\tLoss: 0.695966\n",
      "Train Epoch: 1 [1200/1366 (86.956522%)]\tLoss: 0.543002\n",
      "\n",
      "Train set: Average loss: 0.5013, Accuracy: 1065/1366 (78%)\n",
      "\n",
      "Val set: Average loss: 0.3683, Accuracy: 374/455 (82%)\n",
      "\n",
      "Train Epoch: 2 [0/1366 (0.000000%)]\tLoss: 0.558620\n",
      "Train Epoch: 2 [300/1366 (21.739130%)]\tLoss: 0.298532\n",
      "Train Epoch: 2 [600/1366 (43.478261%)]\tLoss: 0.541594\n",
      "Train Epoch: 2 [900/1366 (65.217391%)]\tLoss: 0.132892\n",
      "Train Epoch: 2 [1200/1366 (86.956522%)]\tLoss: 0.406556\n",
      "\n",
      "Train set: Average loss: 0.3690, Accuracy: 1084/1366 (79%)\n",
      "\n",
      "Val set: Average loss: 0.3224, Accuracy: 374/455 (82%)\n",
      "\n",
      "Train Epoch: 3 [0/1366 (0.000000%)]\tLoss: 0.419148\n",
      "Train Epoch: 3 [300/1366 (21.739130%)]\tLoss: 0.162861\n",
      "Train Epoch: 3 [600/1366 (43.478261%)]\tLoss: 0.240122\n",
      "Train Epoch: 3 [900/1366 (65.217391%)]\tLoss: 0.206076\n",
      "Train Epoch: 3 [1200/1366 (86.956522%)]\tLoss: 0.346585\n",
      "\n",
      "Train set: Average loss: 0.3158, Accuracy: 1088/1366 (80%)\n",
      "\n",
      "Val set: Average loss: 0.2811, Accuracy: 375/455 (82%)\n",
      "\n",
      "Train Epoch: 4 [0/1366 (0.000000%)]\tLoss: 0.355775\n",
      "Train Epoch: 4 [300/1366 (21.739130%)]\tLoss: 0.205089\n",
      "Train Epoch: 4 [600/1366 (43.478261%)]\tLoss: 0.205864\n",
      "Train Epoch: 4 [900/1366 (65.217391%)]\tLoss: 0.159436\n",
      "Train Epoch: 4 [1200/1366 (86.956522%)]\tLoss: 0.473192\n",
      "\n",
      "Train set: Average loss: 0.2825, Accuracy: 1096/1366 (80%)\n",
      "\n",
      "Val set: Average loss: 0.2521, Accuracy: 378/455 (83%)\n",
      "\n",
      "Train Epoch: 5 [0/1366 (0.000000%)]\tLoss: 0.163473\n",
      "Train Epoch: 5 [300/1366 (21.739130%)]\tLoss: 0.306789\n",
      "Train Epoch: 5 [600/1366 (43.478261%)]\tLoss: 0.311846\n",
      "Train Epoch: 5 [900/1366 (65.217391%)]\tLoss: 0.259123\n",
      "Train Epoch: 5 [1200/1366 (86.956522%)]\tLoss: 0.308865\n",
      "\n",
      "Train set: Average loss: 0.2496, Accuracy: 1110/1366 (81%)\n",
      "\n",
      "Val set: Average loss: 0.2369, Accuracy: 383/455 (84%)\n",
      "\n",
      "Train Epoch: 6 [0/1366 (0.000000%)]\tLoss: 0.182875\n",
      "Train Epoch: 6 [300/1366 (21.739130%)]\tLoss: 0.083278\n",
      "Train Epoch: 6 [600/1366 (43.478261%)]\tLoss: 0.276385\n",
      "Train Epoch: 6 [900/1366 (65.217391%)]\tLoss: 0.170778\n",
      "Train Epoch: 6 [1200/1366 (86.956522%)]\tLoss: 0.182640\n",
      "\n",
      "Train set: Average loss: 0.2316, Accuracy: 1142/1366 (84%)\n",
      "\n",
      "Val set: Average loss: 0.2153, Accuracy: 394/455 (87%)\n",
      "\n",
      "Train Epoch: 7 [0/1366 (0.000000%)]\tLoss: 0.236849\n",
      "Train Epoch: 7 [300/1366 (21.739130%)]\tLoss: 0.197809\n",
      "Train Epoch: 7 [600/1366 (43.478261%)]\tLoss: 0.146305\n",
      "Train Epoch: 7 [900/1366 (65.217391%)]\tLoss: 0.201009\n",
      "Train Epoch: 7 [1200/1366 (86.956522%)]\tLoss: 0.262535\n",
      "\n",
      "Train set: Average loss: 0.2089, Accuracy: 1183/1366 (87%)\n",
      "\n",
      "Val set: Average loss: 0.1902, Accuracy: 403/455 (89%)\n",
      "\n",
      "Train Epoch: 8 [0/1366 (0.000000%)]\tLoss: 0.132740\n",
      "Train Epoch: 8 [300/1366 (21.739130%)]\tLoss: 0.168551\n",
      "Train Epoch: 8 [600/1366 (43.478261%)]\tLoss: 0.118977\n",
      "Train Epoch: 8 [900/1366 (65.217391%)]\tLoss: 0.197574\n",
      "Train Epoch: 8 [1200/1366 (86.956522%)]\tLoss: 0.114718\n",
      "\n",
      "Train set: Average loss: 0.1927, Accuracy: 1208/1366 (88%)\n",
      "\n",
      "Val set: Average loss: 0.2015, Accuracy: 395/455 (87%)\n",
      "\n",
      "Train Epoch: 9 [0/1366 (0.000000%)]\tLoss: 0.099808\n",
      "Train Epoch: 9 [300/1366 (21.739130%)]\tLoss: 0.143809\n",
      "Train Epoch: 9 [600/1366 (43.478261%)]\tLoss: 0.192738\n",
      "Train Epoch: 9 [900/1366 (65.217391%)]\tLoss: 0.107217\n",
      "Train Epoch: 9 [1200/1366 (86.956522%)]\tLoss: 0.174172\n",
      "\n",
      "Train set: Average loss: 0.1817, Accuracy: 1215/1366 (89%)\n",
      "\n",
      "Val set: Average loss: 0.1910, Accuracy: 401/455 (88%)\n",
      "\n",
      "Train Epoch: 10 [0/1366 (0.000000%)]\tLoss: 0.176938\n",
      "Train Epoch: 10 [300/1366 (21.739130%)]\tLoss: 0.259541\n",
      "Train Epoch: 10 [600/1366 (43.478261%)]\tLoss: 0.231761\n",
      "Train Epoch: 10 [900/1366 (65.217391%)]\tLoss: 0.134218\n",
      "Train Epoch: 10 [1200/1366 (86.956522%)]\tLoss: 0.093902\n",
      "\n",
      "Train set: Average loss: 0.1707, Accuracy: 1214/1366 (89%)\n",
      "\n",
      "Val set: Average loss: 0.2072, Accuracy: 405/455 (89%)\n",
      "\n",
      "Train Epoch: 11 [0/1366 (0.000000%)]\tLoss: 0.326752\n",
      "Train Epoch: 11 [300/1366 (21.739130%)]\tLoss: 0.027840\n",
      "Train Epoch: 11 [600/1366 (43.478261%)]\tLoss: 0.193805\n",
      "Train Epoch: 11 [900/1366 (65.217391%)]\tLoss: 0.179800\n",
      "Train Epoch: 11 [1200/1366 (86.956522%)]\tLoss: 0.078446\n",
      "\n",
      "Train set: Average loss: 0.1664, Accuracy: 1239/1366 (91%)\n",
      "\n",
      "Val set: Average loss: 0.1738, Accuracy: 415/455 (91%)\n",
      "\n",
      "Train Epoch: 12 [0/1366 (0.000000%)]\tLoss: 0.113904\n",
      "Train Epoch: 12 [300/1366 (21.739130%)]\tLoss: 0.136468\n",
      "Train Epoch: 12 [600/1366 (43.478261%)]\tLoss: 0.138759\n",
      "Train Epoch: 12 [900/1366 (65.217391%)]\tLoss: 0.303092\n",
      "Train Epoch: 12 [1200/1366 (86.956522%)]\tLoss: 0.185331\n",
      "\n",
      "Train set: Average loss: 0.1608, Accuracy: 1238/1366 (91%)\n",
      "\n",
      "Val set: Average loss: 0.1716, Accuracy: 420/455 (92%)\n",
      "\n",
      "Train Epoch: 13 [0/1366 (0.000000%)]\tLoss: 0.216577\n",
      "Train Epoch: 13 [300/1366 (21.739130%)]\tLoss: 0.054245\n",
      "Train Epoch: 13 [600/1366 (43.478261%)]\tLoss: 0.120666\n",
      "Train Epoch: 13 [900/1366 (65.217391%)]\tLoss: 0.242666\n",
      "Train Epoch: 13 [1200/1366 (86.956522%)]\tLoss: 0.164170\n",
      "\n",
      "Train set: Average loss: 0.1560, Accuracy: 1246/1366 (91%)\n",
      "\n",
      "Val set: Average loss: 0.1945, Accuracy: 413/455 (91%)\n",
      "\n",
      "Train Epoch: 14 [0/1366 (0.000000%)]\tLoss: 0.178534\n",
      "Train Epoch: 14 [300/1366 (21.739130%)]\tLoss: 0.128433\n",
      "Train Epoch: 14 [600/1366 (43.478261%)]\tLoss: 0.169216\n",
      "Train Epoch: 14 [900/1366 (65.217391%)]\tLoss: 0.155089\n",
      "Train Epoch: 14 [1200/1366 (86.956522%)]\tLoss: 0.105639\n",
      "\n",
      "Train set: Average loss: 0.1448, Accuracy: 1250/1366 (92%)\n",
      "\n",
      "Val set: Average loss: 0.1831, Accuracy: 413/455 (91%)\n",
      "\n",
      "Train Epoch: 15 [0/1366 (0.000000%)]\tLoss: 0.164269\n",
      "Train Epoch: 15 [300/1366 (21.739130%)]\tLoss: 0.282883\n",
      "Train Epoch: 15 [600/1366 (43.478261%)]\tLoss: 0.035742\n",
      "Train Epoch: 15 [900/1366 (65.217391%)]\tLoss: 0.140742\n",
      "Train Epoch: 15 [1200/1366 (86.956522%)]\tLoss: 0.147091\n",
      "\n",
      "Train set: Average loss: 0.1393, Accuracy: 1246/1366 (91%)\n",
      "\n",
      "Val set: Average loss: 0.1887, Accuracy: 409/455 (90%)\n",
      "\n",
      "Train Epoch: 16 [0/1366 (0.000000%)]\tLoss: 0.131464\n",
      "Train Epoch: 16 [300/1366 (21.739130%)]\tLoss: 0.122218\n",
      "Train Epoch: 16 [600/1366 (43.478261%)]\tLoss: 0.251219\n",
      "Train Epoch: 16 [900/1366 (65.217391%)]\tLoss: 0.246007\n",
      "Train Epoch: 16 [1200/1366 (86.956522%)]\tLoss: 0.141425\n",
      "\n",
      "Train set: Average loss: 0.1288, Accuracy: 1274/1366 (93%)\n",
      "\n",
      "Val set: Average loss: 0.2052, Accuracy: 409/455 (90%)\n",
      "\n",
      "Train Epoch: 17 [0/1366 (0.000000%)]\tLoss: 0.335404\n",
      "Train Epoch: 17 [300/1366 (21.739130%)]\tLoss: 0.082000\n",
      "Train Epoch: 17 [600/1366 (43.478261%)]\tLoss: 0.228718\n",
      "Train Epoch: 17 [900/1366 (65.217391%)]\tLoss: 0.184338\n",
      "Train Epoch: 17 [1200/1366 (86.956522%)]\tLoss: 0.166786\n",
      "\n",
      "Train set: Average loss: 0.1249, Accuracy: 1271/1366 (93%)\n",
      "\n",
      "Val set: Average loss: 0.2091, Accuracy: 397/455 (87%)\n",
      "\n",
      "Train Epoch: 18 [0/1366 (0.000000%)]\tLoss: 0.148663\n",
      "Train Epoch: 18 [300/1366 (21.739130%)]\tLoss: 0.044986\n",
      "Train Epoch: 18 [600/1366 (43.478261%)]\tLoss: 0.271228\n",
      "Train Epoch: 18 [900/1366 (65.217391%)]\tLoss: 0.120298\n",
      "Train Epoch: 18 [1200/1366 (86.956522%)]\tLoss: 0.215835\n",
      "\n",
      "Train set: Average loss: 0.1184, Accuracy: 1279/1366 (94%)\n",
      "\n",
      "Val set: Average loss: 0.1586, Accuracy: 420/455 (92%)\n",
      "\n",
      "Train Epoch: 19 [0/1366 (0.000000%)]\tLoss: 0.124459\n",
      "Train Epoch: 19 [300/1366 (21.739130%)]\tLoss: 0.201398\n",
      "Train Epoch: 19 [600/1366 (43.478261%)]\tLoss: 0.116135\n",
      "Train Epoch: 19 [900/1366 (65.217391%)]\tLoss: 0.079896\n",
      "Train Epoch: 19 [1200/1366 (86.956522%)]\tLoss: 0.108356\n",
      "\n",
      "Train set: Average loss: 0.1046, Accuracy: 1283/1366 (94%)\n",
      "\n",
      "Val set: Average loss: 0.2043, Accuracy: 405/455 (89%)\n",
      "\n",
      "Train Epoch: 20 [0/1366 (0.000000%)]\tLoss: 0.009713\n",
      "Train Epoch: 20 [300/1366 (21.739130%)]\tLoss: 0.083896\n",
      "Train Epoch: 20 [600/1366 (43.478261%)]\tLoss: 0.315399\n",
      "Train Epoch: 20 [900/1366 (65.217391%)]\tLoss: 0.142708\n",
      "Train Epoch: 20 [1200/1366 (86.956522%)]\tLoss: 0.109387\n",
      "\n",
      "Train set: Average loss: 0.1116, Accuracy: 1281/1366 (94%)\n",
      "\n",
      "Val set: Average loss: 0.1670, Accuracy: 410/455 (90%)\n",
      "\n",
      "Train Epoch: 21 [0/1366 (0.000000%)]\tLoss: 0.074284\n",
      "Train Epoch: 21 [300/1366 (21.739130%)]\tLoss: 0.093100\n",
      "Train Epoch: 21 [600/1366 (43.478261%)]\tLoss: 0.213347\n",
      "Train Epoch: 21 [900/1366 (65.217391%)]\tLoss: 0.056520\n",
      "Train Epoch: 21 [1200/1366 (86.956522%)]\tLoss: 0.140698\n",
      "\n",
      "Train set: Average loss: 0.1192, Accuracy: 1275/1366 (93%)\n",
      "\n",
      "Val set: Average loss: 0.1578, Accuracy: 420/455 (92%)\n",
      "\n",
      "Train Epoch: 22 [0/1366 (0.000000%)]\tLoss: 0.144742\n"
     ]
    },
    {
     "name": "stdout",
     "output_type": "stream",
     "text": [
      "Train Epoch: 22 [300/1366 (21.739130%)]\tLoss: 0.032712\n",
      "Train Epoch: 22 [600/1366 (43.478261%)]\tLoss: 0.039933\n",
      "Train Epoch: 22 [900/1366 (65.217391%)]\tLoss: 0.036465\n",
      "Train Epoch: 22 [1200/1366 (86.956522%)]\tLoss: 0.075899\n",
      "\n",
      "Train set: Average loss: 0.0968, Accuracy: 1282/1366 (94%)\n",
      "\n",
      "Val set: Average loss: 0.1912, Accuracy: 416/455 (91%)\n",
      "\n",
      "Train Epoch: 23 [0/1366 (0.000000%)]\tLoss: 0.068230\n",
      "Train Epoch: 23 [300/1366 (21.739130%)]\tLoss: 0.173552\n",
      "Train Epoch: 23 [600/1366 (43.478261%)]\tLoss: 0.070816\n",
      "Train Epoch: 23 [900/1366 (65.217391%)]\tLoss: 0.037394\n",
      "Train Epoch: 23 [1200/1366 (86.956522%)]\tLoss: 0.048326\n",
      "\n",
      "Train set: Average loss: 0.0879, Accuracy: 1295/1366 (95%)\n",
      "\n",
      "Val set: Average loss: 0.1370, Accuracy: 418/455 (92%)\n",
      "\n",
      "Train Epoch: 24 [0/1366 (0.000000%)]\tLoss: 0.071389\n",
      "Train Epoch: 24 [300/1366 (21.739130%)]\tLoss: 0.044090\n",
      "Train Epoch: 24 [600/1366 (43.478261%)]\tLoss: 0.083684\n",
      "Train Epoch: 24 [900/1366 (65.217391%)]\tLoss: 0.078054\n",
      "Train Epoch: 24 [1200/1366 (86.956522%)]\tLoss: 0.112863\n",
      "\n",
      "Train set: Average loss: 0.0864, Accuracy: 1308/1366 (96%)\n",
      "\n",
      "Val set: Average loss: 0.1449, Accuracy: 416/455 (91%)\n",
      "\n",
      "Train Epoch: 25 [0/1366 (0.000000%)]\tLoss: 0.104189\n",
      "Train Epoch: 25 [300/1366 (21.739130%)]\tLoss: 0.024271\n",
      "Train Epoch: 25 [600/1366 (43.478261%)]\tLoss: 0.030292\n",
      "Train Epoch: 25 [900/1366 (65.217391%)]\tLoss: 0.048371\n",
      "Train Epoch: 25 [1200/1366 (86.956522%)]\tLoss: 0.060896\n",
      "\n",
      "Train set: Average loss: 0.0762, Accuracy: 1296/1366 (95%)\n",
      "\n",
      "Val set: Average loss: 0.1906, Accuracy: 417/455 (92%)\n",
      "\n",
      "Train Epoch: 26 [0/1366 (0.000000%)]\tLoss: 0.180607\n",
      "Train Epoch: 26 [300/1366 (21.739130%)]\tLoss: 0.039967\n",
      "Train Epoch: 26 [600/1366 (43.478261%)]\tLoss: 0.053494\n",
      "Train Epoch: 26 [900/1366 (65.217391%)]\tLoss: 0.136898\n",
      "Train Epoch: 26 [1200/1366 (86.956522%)]\tLoss: 0.086321\n",
      "\n",
      "Train set: Average loss: 0.0684, Accuracy: 1318/1366 (96%)\n",
      "\n",
      "Val set: Average loss: 0.1858, Accuracy: 419/455 (92%)\n",
      "\n",
      "Train Epoch: 27 [0/1366 (0.000000%)]\tLoss: 0.052845\n",
      "Train Epoch: 27 [300/1366 (21.739130%)]\tLoss: 0.063708\n",
      "Train Epoch: 27 [600/1366 (43.478261%)]\tLoss: 0.055383\n",
      "Train Epoch: 27 [900/1366 (65.217391%)]\tLoss: 0.031408\n",
      "Train Epoch: 27 [1200/1366 (86.956522%)]\tLoss: 0.041443\n",
      "\n",
      "Train set: Average loss: 0.0593, Accuracy: 1312/1366 (96%)\n",
      "\n",
      "Val set: Average loss: 0.1615, Accuracy: 421/455 (93%)\n",
      "\n",
      "Train Epoch: 28 [0/1366 (0.000000%)]\tLoss: 0.026878\n",
      "Train Epoch: 28 [300/1366 (21.739130%)]\tLoss: 0.056807\n",
      "Train Epoch: 28 [600/1366 (43.478261%)]\tLoss: 0.041799\n",
      "Train Epoch: 28 [900/1366 (65.217391%)]\tLoss: 0.223218\n",
      "Train Epoch: 28 [1200/1366 (86.956522%)]\tLoss: 0.073942\n",
      "\n",
      "Train set: Average loss: 0.0593, Accuracy: 1317/1366 (96%)\n",
      "\n",
      "Val set: Average loss: 0.1772, Accuracy: 411/455 (90%)\n",
      "\n",
      "Train Epoch: 29 [0/1366 (0.000000%)]\tLoss: 0.035882\n",
      "Train Epoch: 29 [300/1366 (21.739130%)]\tLoss: 0.012792\n",
      "Train Epoch: 29 [600/1366 (43.478261%)]\tLoss: 0.106124\n",
      "Train Epoch: 29 [900/1366 (65.217391%)]\tLoss: 0.062969\n",
      "Train Epoch: 29 [1200/1366 (86.956522%)]\tLoss: 0.050776\n",
      "\n",
      "Train set: Average loss: 0.0666, Accuracy: 1306/1366 (96%)\n",
      "\n",
      "Val set: Average loss: 0.1579, Accuracy: 423/455 (93%)\n",
      "\n",
      "Train Epoch: 30 [0/1366 (0.000000%)]\tLoss: 0.023413\n",
      "Train Epoch: 30 [300/1366 (21.739130%)]\tLoss: 0.013712\n",
      "Train Epoch: 30 [600/1366 (43.478261%)]\tLoss: 0.031618\n",
      "Train Epoch: 30 [900/1366 (65.217391%)]\tLoss: 0.085057\n",
      "Train Epoch: 30 [1200/1366 (86.956522%)]\tLoss: 0.041189\n",
      "\n",
      "Train set: Average loss: 0.0501, Accuracy: 1332/1366 (98%)\n",
      "\n",
      "Val set: Average loss: 0.1519, Accuracy: 414/455 (91%)\n",
      "\n"
     ]
    }
   ],
   "source": [
    "# train the model\n",
    "epochs =30\n",
    "train_losses = []\n",
    "train_acc = []\n",
    "val_losses = []\n",
    "val_acc = []\n",
    "best_model_wts = copy.deepcopy(model.state_dict())\n",
    "best_loss = 100000\n",
    "for epoch in range(1, epochs+1):\n",
    "    train_loss,train_accuracy= train(model, device, train_loader, optimizer, epoch)\n",
    "    train_losses.append(train_loss)\n",
    "    train_acc.append(train_accuracy)\n",
    "\n",
    "\n",
    "    val_loss, val_accuracy =val(model, device, val_loader)\n",
    "    val_losses.append(val_loss)\n",
    "    val_acc.append(val_accuracy)\n",
    "    if val_loss < best_loss:\n",
    "        best_model_wts = copy.deepcopy(model.state_dict())\n",
    "\n"
   ]
  },
  {
   "cell_type": "code",
   "execution_count": 35,
   "metadata": {
    "colab": {
     "base_uri": "https://localhost:8080/",
     "height": 282
    },
    "id": "_4Nw08AIDCKZ",
    "outputId": "65f09beb-1c40-46e6-bc77-e2cc52871b03"
   },
   "outputs": [
    {
     "data": {
      "text/plain": [
       "Text(0.5, 0, 'Epochs')"
      ]
     },
     "execution_count": 35,
     "metadata": {},
     "output_type": "execute_result"
    },
    {
     "data": {
      "image/png": "[encoded data removed]",
      "text/plain": [
       "<Figure size 432x288 with 1 Axes>"
      ]
     },
     "metadata": {},
     "output_type": "display_data"
    }
   ],
   "source": [
    "# plot train loss\n",
    "plt.plot(train_losses,label = 'Train loss')\n",
    "plt.plot(val_losses,label = 'Validation loss')\n",
    "plt.title('Loss curve')\n",
    "plt.xticks([1,5,10,15,20])\n",
    "plt.legend()\n",
    "plt.ylabel('Loss')\n",
    "plt.xlabel('Epochs')\n"
   ]
  },
  {
   "cell_type": "code",
   "execution_count": 36,
   "metadata": {
    "colab": {
     "base_uri": "https://localhost:8080/",
     "height": 265
    },
    "id": "EOdfU3OYMhcA",
    "outputId": "4c1f94a4-a7e3-4e81-bf79-96ccf42b863c"
   },
   "outputs": [
    {
     "data": {
      "text/plain": [
       "Text(0.5, 0, 'Epochs')"
      ]
     },
     "execution_count": 36,
     "metadata": {},
     "output_type": "execute_result"
    },
    {
     "data": {
      "image/png": "[encoded data removed]",
      "text/plain": [
       "<Figure size 432x288 with 1 Axes>"
      ]
     },
     "metadata": {},
     "output_type": "display_data"
    }
   ],
   "source": [
    "# plot validation loss\n",
    "plt.plot(train_acc,label = 'Train Accuracy')\n",
    "plt.plot(val_acc, label = 'Validation Accuracy')\n",
    "plt.legend(loc = 'lower right')\n",
    "plt.title('Accuracy')\n",
    "plt.xticks([1,5,10,15,20])\n",
    "plt.ylabel('Accuracy')\n",
    "plt.xlabel('Epochs')"
   ]
  },
  {
   "cell_type": "code",
   "execution_count": 37,
   "metadata": {},
   "outputs": [
    {
     "data": {
      "text/plain": [
       "<All keys matched successfully>"
      ]
     },
     "execution_count": 37,
     "metadata": {},
     "output_type": "execute_result"
    }
   ],
   "source": [
    "#load the best model\n",
    "model.load_state_dict(best_model_wts)"
   ]
  },
  {
   "cell_type": "code",
   "execution_count": 38,
   "metadata": {},
   "outputs": [
    {
     "name": "stdout",
     "output_type": "stream",
     "text": [
      "Val set: Average loss: 0.2317, Accuracy: 409/456 (90%)\n",
      "\n"
     ]
    },
    {
     "data": {
      "text/plain": [
       "(0.23166639387215437, 89.69298245614036)"
      ]
     },
     "execution_count": 38,
     "metadata": {},
     "output_type": "execute_result"
    }
   ],
   "source": [
    "#test on the test set\n",
    "val(model, device, test_loader)"
   ]
  },
  {
   "cell_type": "code",
   "execution_count": 40,
   "metadata": {
    "colab": {
     "base_uri": "https://localhost:8080/",
     "height": 380
    },
    "id": "cC888IF0t0A-",
    "outputId": "6f9d8057-4abd-4202-d197-76a0e7da163d"
   },
   "outputs": [
    {
     "name": "stdout",
     "output_type": "stream",
     "text": [
      "Normalized confusion matrix\n",
      "[[0.69444444 0.23611111 0.06944444]\n",
      " [0.00849858 0.96883853 0.02266289]\n",
      " [0.09677419 0.35483871 0.5483871 ]]\n"
     ]
    },
    {
     "data": {
      "image/png": "[encoded data removed]",
      "text/plain": [
       "<Figure size 432x288 with 2 Axes>"
      ]
     },
     "metadata": {},
     "output_type": "display_data"
    }
   ],
   "source": [
    "# plot the confusion matrix\n",
    "preds,targets = get_all_preds(model, test_loader,device)\n",
    "cm = confusion_matrix(targets,preds.argmax(dim = 1))\n",
    "plot_confusion_matrix(cm,['unmasked','masked','incorrectly_masked'],normalize = True,)"
   ]
  },
  {
   "cell_type": "code",
   "execution_count": 49,
   "metadata": {
    "colab": {
     "base_uri": "https://localhost:8080/",
     "height": 17
    },
    "id": "fboS7PEu2O2P",
    "outputId": "3b41a456-0240-437f-84e3-48cbd9e22a3a"
   },
   "outputs": [
    {
     "ename": "ModuleNotFoundError",
     "evalue": "No module named 'google.colab'",
     "output_type": "error",
     "traceback": [
      "\u001b[0;31m---------------------------------------------------------------------------\u001b[0m",
      "\u001b[0;31mModuleNotFoundError\u001b[0m                       Traceback (most recent call last)",
      "\u001b[0;32m<ipython-input-49-7a26fe9674fc>\u001b[0m in \u001b[0;36m<module>\u001b[0;34m()\u001b[0m\n\u001b[0;32m----> 1\u001b[0;31m \u001b[0;32mfrom\u001b[0m \u001b[0mgoogle\u001b[0m\u001b[0;34m.\u001b[0m\u001b[0mcolab\u001b[0m \u001b[0;32mimport\u001b[0m \u001b[0mfiles\u001b[0m\u001b[0;34m\u001b[0m\u001b[0m\n\u001b[0m\u001b[1;32m      2\u001b[0m \u001b[0mtorch\u001b[0m\u001b[0;34m.\u001b[0m\u001b[0msave\u001b[0m\u001b[0;34m(\u001b[0m\u001b[0mmodel\u001b[0m\u001b[0;34m,\u001b[0m \u001b[0;34m'model.pth'\u001b[0m\u001b[0;34m)\u001b[0m\u001b[0;34m\u001b[0m\u001b[0m\n\u001b[1;32m      3\u001b[0m \u001b[0;34m\u001b[0m\u001b[0m\n\u001b[1;32m      4\u001b[0m \u001b[0;31m# download checkpoint file\u001b[0m\u001b[0;34m\u001b[0m\u001b[0;34m\u001b[0m\u001b[0m\n\u001b[1;32m      5\u001b[0m \u001b[0mfiles\u001b[0m\u001b[0;34m.\u001b[0m\u001b[0mdownload\u001b[0m\u001b[0;34m(\u001b[0m\u001b[0;34m'model.pth'\u001b[0m\u001b[0;34m)\u001b[0m\u001b[0;34m\u001b[0m\u001b[0m\n",
      "\u001b[0;31mModuleNotFoundError\u001b[0m: No module named 'google.colab'"
     ]
    }
   ],
   "source": [
    "torch.save(model, 'model.pth')\n"
   ]
  },
  {
   "cell_type": "code",
   "execution_count": null,
   "metadata": {
    "collapsed": true,
    "id": "SfsGyyz7lKut"
   },
   "outputs": [],
   "source": []
  }
 ],
 "metadata": {
  "accelerator": "GPU",
  "colab": {
   "collapsed_sections": [],
   "name": "Copy of test_classification.ipynb",
   "provenance": []
  },
  "kernelspec": {
   "display_name": "Python 3",
   "language": "python",
   "name": "python3"
  },
  "language_info": {
   "codemirror_mode": {
    "name": "ipython",
    "version": 3
   },
   "file_extension": ".py",
   "mimetype": "text/x-python",
   "name": "python",
   "nbconvert_exporter": "python",
   "pygments_lexer": "ipython3",
   "version": "3.6.3"
  }
 },
 "nbformat": 4,
 "nbformat_minor": 1
}
