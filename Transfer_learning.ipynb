{
 "cells": [
  {
   "cell_type": "code",
   "execution_count": 30,
   "metadata": {
    "colab": {
     "base_uri": "https://localhost:8080/"
    },
    "id": "WhLDEnGw6xEg",
    "outputId": "c63ace9e-6905-4051-8f9c-dd5a2b9c063b"
   },
   "outputs": [],
   "source": [
    "# import packages\n",
    "from os import chdir, listdir\n",
    "import pickle\n",
    "import matplotlib.pyplot as plt\n",
    "import copy\n",
    "\n",
    "import torch\n",
    "import torch.autograd as autograd\n",
    "import torch.nn as nn\n",
    "import torch.nn.functional as F\n",
    "import torch.optim as optim \n",
    "import numpy as np\n",
    "from torch.utils.data import Dataset\n",
    "import torchvision.models as models\n",
    "from torchvision import transforms as T\n",
    "\n",
    "from sklearn.metrics import confusion_matrix\n",
    "import itertools\n",
    "\n",
    "%matplotlib inline"
   ]
  },
  {
   "cell_type": "code",
   "execution_count": 8,
   "metadata": {},
   "outputs": [
    {
     "name": "stdout",
     "output_type": "stream",
     "text": [
      "{'face': array([[[ 67,  70,  74, ..., 130, 131, 132],\n",
      "        [ 67,  70,  74, ..., 128, 128, 128],\n",
      "        [ 67,  70,  74, ..., 126, 123, 121],\n",
      "        ...,\n",
      "        [ 76,  72,  65, ...,  93,  98, 101],\n",
      "        [ 78,  74,  67, ...,  94, 101, 105],\n",
      "        [ 79,  75,  69, ...,  94, 103, 108]],\n",
      "\n",
      "       [[ 67,  68,  70, ..., 114, 116, 117],\n",
      "        [ 67,  68,  70, ..., 113, 113, 114],\n",
      "        [ 68,  69,  71, ..., 110, 110, 109],\n",
      "        ...,\n",
      "        [ 49,  47,  43, ...,  51,  57,  60],\n",
      "        [ 47,  45,  43, ...,  46,  53,  57],\n",
      "        [ 46,  45,  43, ...,  43,  51,  56]],\n",
      "\n",
      "       [[ 75,  75,  77, ..., 115, 118, 120],\n",
      "        [ 74,  75,  77, ..., 114, 116, 117],\n",
      "        [ 73,  75,  78, ..., 111, 111, 111],\n",
      "        ...,\n",
      "        [ 54,  52,  48, ...,  65,  71,  74],\n",
      "        [ 53,  52,  49, ...,  61,  68,  72],\n",
      "        [ 53,  51,  49, ...,  58,  66,  71]]], dtype=uint8), 'label': 'without_mask'}\n"
     ]
    }
   ],
   "source": [
    "\n",
    "# load dataset\n",
    "data_dict = pickle.load(open('obj_dict.dat', 'rb'))\n",
    "\n",
    "dataset = data_dict['added_filter_20_dataset_chw']\n",
    "dataset = dataset['data']\n",
    "print(dataset[0])"
   ]
  },
  {
   "cell_type": "code",
   "execution_count": 12,
   "metadata": {
    "colab": {
     "base_uri": "https://localhost:8080/",
     "height": 268
    },
    "id": "KsDqxQ2_tfT8",
    "outputId": "ce42b5e2-a875-4015-d361-4e7bbfd0a356"
   },
   "outputs": [
    {
     "data": {
      "image/png": "[encoded data removed]",
      "text/plain": [
       "<Figure size 432x288 with 1 Axes>"
      ]
     },
     "metadata": {},
     "output_type": "display_data"
    }
   ],
   "source": [
    "# A sample img in the dataset\n",
    "plt.imshow(np.transpose(dataset[20]['face'],(1,2,0)));"
   ]
  },
  {
   "cell_type": "code",
   "execution_count": 13,
   "metadata": {
    "collapsed": true,
    "id": "KbVtmBEmB5ci"
   },
   "outputs": [],
   "source": [
    "# Construct the custom dataset class\n",
    "class MyDataset(Dataset):\n",
    "    def __init__(self, dataset,transform):\n",
    "        self.dataset = dataset\n",
    "        self.transform = transform\n",
    "        self.label_dict = {'without_mask':0,'with_mask':1,'mask_weared_incorrect':2}\n",
    "    \n",
    "    def __getitem__(self, index):\n",
    "        img = self.dataset[index]['face']\n",
    "        label = self.label_dict[self.dataset[index]['label']]\n",
    "        img = torch.as_tensor(img, dtype=torch.float32)\n",
    "        #Normalize pixel values to numbers between 0 and 1\n",
    "        img = img/255\n",
    "        label = torch.tensor(label)\n",
    "        if self.transform:\n",
    "          img = self.transform(img)\n",
    "\n",
    "        return img, label\n",
    "    \n",
    "    def __len__(self):\n",
    "        return len(self.dataset)"
   ]
  },
  {
   "cell_type": "code",
   "execution_count": 14,
   "metadata": {
    "collapsed": true,
    "id": "yDhuHAMASQom"
   },
   "outputs": [],
   "source": [
    "face_dataset = MyDataset(dataset,transform = None)\n",
    "dataset_size = len(dataset)\n",
    "\n",
    "# Split dataset into training set, validation set, and test set\n",
    "train_size = int(dataset_size * 0.6)\n",
    "val_size = int(dataset_size * 0.2)\n",
    "test_size = dataset_size - train_size - val_size\n",
    "\n",
    "train_dataset, val_dataset, test_dataset = torch.utils.data.random_split(face_dataset, [train_size, val_size, test_size])"
   ]
  },
  {
   "cell_type": "code",
   "execution_count": 15,
   "metadata": {
    "collapsed": true,
    "id": "4Zy_xLEBeUXP"
   },
   "outputs": [],
   "source": [
    "BATCH_SIZE = 16\n",
    "\n",
    "train_loader = torch.utils.data.DataLoader(train_dataset,\n",
    "                                          batch_size=BATCH_SIZE,\n",
    "                                          shuffle=True)\n",
    "\n",
    "val_loader = torch.utils.data.DataLoader(val_dataset,\n",
    "                                          batch_size=BATCH_SIZE,\n",
    "                                          shuffle=True)\n",
    "\n",
    "test_loader = torch.utils.data.DataLoader(test_dataset,\n",
    "                                          batch_size=BATCH_SIZE,\n",
    "                                          shuffle=True)"
   ]
  },
  {
   "cell_type": "code",
   "execution_count": 16,
   "metadata": {
    "collapsed": true,
    "id": "zOLjEzL1eWsV"
   },
   "outputs": [],
   "source": [
    "# Build a simple CNN \n",
    "class Net(nn.Module):\n",
    "    def __init__(self):\n",
    "        super(Net, self).__init__()\n",
    "        self.conv1 = nn.Conv2d(3, 20, 5, 1)    # input 3 channel, because rgb image. 20 filters, 5x5 size\n",
    "        self.conv2 = nn.Conv2d(20, 50, 5, 1)   # input 20 channel, previous layer has 20 filters. 50 filters, 5x5 size\n",
    "        self.fc1 = nn.Linear(13*13*50, 500)      # 13*13*50 --> 500 linear layer\n",
    "        self.fc2 = nn.Linear(500, 3)          # 500 --> 3 linear layer\n",
    "\n",
    "    def forward(self, x):  \n",
    "        x = F.relu(self.conv1(x)) \n",
    "        x = F.max_pool2d(x, 2, 2) \n",
    "        x = F.relu(self.conv2(x)) \n",
    "        x = F.max_pool2d(x, 2, 2) \n",
    "        x = x.view(-1, 13*13*50)   \n",
    "        x = F.relu(self.fc1(x))   \n",
    "        x = self.fc2(x)           \n",
    "        return F.log_softmax(x, dim=1)  "
   ]
  },
  {
   "cell_type": "code",
   "execution_count": 26,
   "metadata": {
    "collapsed": true,
    "id": "PXZjsXZtp0Un"
   },
   "outputs": [],
   "source": [
    "def train(model, device, train_loader, optimizer, epoch, log_interval=10):\n",
    "    train_loss = 0\n",
    "    model.train() \n",
    "    for batch_idx, (img, label) in enumerate(train_loader):   \n",
    "        \n",
    "        img, label = img.to(device), label.to(device)     # use gpu if possible\n",
    "        optimizer.zero_grad()                                 # clean gradients\n",
    "        output = model(img)\n",
    "        loss = criterion(output, label)                      # what is loss\n",
    "        train_loss += loss.item()* len(img)\n",
    "\n",
    "        loss.backward()                                       # calculate loss\n",
    "        optimizer.step()                                      # update weights (update filters in this case)\n",
    "        if batch_idx % log_interval == 0:\n",
    "            print(\"Train Epoch: {} [{}/{} ({:0f}%)]\\tLoss: {:.6f}\".format(\n",
    "                epoch, \n",
    "                batch_idx * len(img), \n",
    "                len(train_loader.dataset), \n",
    "                100. * batch_idx / len(train_loader), \n",
    "                loss.item()\n",
    "            ))\n",
    "    train_loss /=len(train_loader.dataset)\n",
    "    print('\\nTrain set: Average loss: {:.4f}\\n'.format(\n",
    "        train_loss))\n",
    "    return train_loss\n"
   ]
  },
  {
   "cell_type": "code",
   "execution_count": 27,
   "metadata": {
    "collapsed": true,
    "id": "pfs3L0FMM5fI"
   },
   "outputs": [],
   "source": [
    "def val(model, device, val_loader):\n",
    "    model.eval()\n",
    "    val_loss = 0\n",
    "    correct = 0\n",
    "    with torch.no_grad():\n",
    "        for img, label in val_loader:\n",
    "            img, label = img.to(device), label.to(device)\n",
    "            output = model(img) \n",
    "            loss = criterion(output, label)  \n",
    "            val_loss += loss.item()*len(img)\n",
    "                       \n",
    "            pred = output.argmax(dim=1, keepdim=True) # get the index of the max log-probability\n",
    "            \n",
    "\n",
    "            correct += pred.eq(label.view_as(pred)).sum().item()\n",
    "\n",
    "\n",
    "    val_loss /= len(val_loader.dataset)\n",
    "    accuracy = 100. * correct / len(val_loader.dataset)\n",
    "\n",
    "    print('Val set: Average loss: {:.4f}, Accuracy: {}/{} ({:.0f}%)\\n'.format(\n",
    "        val_loss, correct, len(val_loader.dataset), accuracy\n",
    "        ))\n",
    "    return val_loss, accuracy"
   ]
  },
  {
   "cell_type": "code",
   "execution_count": 20,
   "metadata": {
    "collapsed": true,
    "id": "BKSjnP61vgw5"
   },
   "outputs": [],
   "source": [
    "# This is a function to get all the predictions in the test set.\n",
    "def get_all_preds(model, loader,device):\n",
    "    all_preds = torch.tensor([])\n",
    "    targets =torch.tensor([])\n",
    "    with torch.no_grad():\n",
    "        for batch in loader:\n",
    "            img, label = batch\n",
    "            img, label = img.to(device), label.to(device)\n",
    "            preds = torch.Tensor.cpu(model(img))\n",
    "            all_preds = torch.cat(\n",
    "                (all_preds, preds)\n",
    "                ,dim=0\n",
    "            )\n",
    "            targets = torch.cat((targets,torch.Tensor.cpu(label)),dim = 0)\n",
    "    return all_preds, targets.int()"
   ]
  },
  {
   "cell_type": "code",
   "execution_count": 21,
   "metadata": {
    "collapsed": true,
    "id": "Bu95uCc5thII"
   },
   "outputs": [],
   "source": [
    "# function to plot the confusion matrix\n",
    "def plot_confusion_matrix(cm, classes, normalize=False, title='Confusion matrix', cmap=plt.cm.Blues):\n",
    "    if normalize:\n",
    "        cm = cm.astype('float') / cm.sum(axis=1)[:, np.newaxis]\n",
    "        print(\"Normalized confusion matrix\")\n",
    "    else:\n",
    "        print('Confusion matrix, without normalization')\n",
    "\n",
    "    print(cm)\n",
    "    plt.imshow(cm, interpolation='nearest', cmap=cmap)\n",
    "    plt.title(title)\n",
    "    plt.colorbar()\n",
    "    tick_marks = np.arange(len(classes))\n",
    "    plt.xticks(tick_marks, classes, rotation=45)\n",
    "    plt.yticks(tick_marks, classes)\n",
    "\n",
    "    fmt = '.2f' if normalize else 'd'\n",
    "    thresh = cm.max() / 2.\n",
    "    for i, j in itertools.product(range(cm.shape[0]), range(cm.shape[1])):\n",
    "        plt.text(j, i, format(cm[i, j], fmt), horizontalalignment=\"center\", color=\"white\" if cm[i, j] > thresh else \"black\")\n",
    "\n",
    "    plt.tight_layout()\n",
    "    plt.ylabel('True label')\n",
    "    plt.xlabel('Predicted label')"
   ]
  },
  {
   "cell_type": "code",
   "execution_count": 44,
   "metadata": {
    "id": "pABjhK0tpmBn"
   },
   "outputs": [
    {
     "name": "stdout",
     "output_type": "stream",
     "text": [
      "cpu\n"
     ]
    }
   ],
   "source": [
    "use_cuda = torch.cuda.is_available()  \n",
    "device = torch.device(\"cuda\" if use_cuda else \"cpu\")  \n",
    "print(device)\n",
    "\n",
    "lr = 0.01\n",
    "\n",
    "# Use pretrained Resnet50 for transfer learning\n",
    "# Load pretrained model and modify the last layer for 3-class classification\n",
    "model = models.resnet50(pretrained=True)\n",
    "num_ftrs = model.fc.in_features\n",
    "model.fc = nn.Linear(num_ftrs, 3)\n",
    "\n",
    "# Use a CNN\n",
    "# model = Net()\n",
    "\n",
    "# # move model to the right device\n",
    "model.to(device)\n",
    "# define optimizer\n",
    "optimizer = optim.SGD(model.parameters(), lr=lr,momentum = 0) \n",
    "# Define Loss function\n",
    "criterion = nn.CrossEntropyLoss()\n",
    "\n",
    "scheduler = torch.optim.lr_scheduler.StepLR(optimizer, step_size=2, gamma=0.5)"
   ]
  },
  {
   "cell_type": "code",
   "execution_count": 45,
   "metadata": {
    "colab": {
     "base_uri": "https://localhost:8080/"
    },
    "id": "ytqtJO9nr1Tx",
    "outputId": "fa910954-01fa-4840-fad8-2558bdc8a778"
   },
   "outputs": [
    {
     "name": "stdout",
     "output_type": "stream",
     "text": [
      "Train Epoch: 1 [0/1366 (0.000000%)]\tLoss: 0.945790\n",
      "Train Epoch: 1 [160/1366 (11.627907%)]\tLoss: 0.529154\n",
      "Train Epoch: 1 [320/1366 (23.255814%)]\tLoss: 0.518327\n",
      "Train Epoch: 1 [480/1366 (34.883721%)]\tLoss: 0.393908\n",
      "Train Epoch: 1 [640/1366 (46.511628%)]\tLoss: 0.294470\n",
      "Train Epoch: 1 [800/1366 (58.139535%)]\tLoss: 0.215698\n",
      "Train Epoch: 1 [960/1366 (69.767442%)]\tLoss: 0.415538\n",
      "Train Epoch: 1 [1120/1366 (81.395349%)]\tLoss: 0.131725\n",
      "Train Epoch: 1 [1280/1366 (93.023256%)]\tLoss: 0.399244\n",
      "Train set: Average loss: 0.0265\n",
      "\n",
      "Val set: Average loss: 0.3521, Accuracy: 397/455 (87%)\n",
      "\n",
      "Train Epoch: 2 [0/1366 (0.000000%)]\tLoss: 0.246738\n",
      "Train Epoch: 2 [160/1366 (11.627907%)]\tLoss: 0.197812\n",
      "Train Epoch: 2 [320/1366 (23.255814%)]\tLoss: 0.136701\n",
      "Train Epoch: 2 [480/1366 (34.883721%)]\tLoss: 0.578506\n",
      "Train Epoch: 2 [640/1366 (46.511628%)]\tLoss: 0.199788\n",
      "Train Epoch: 2 [800/1366 (58.139535%)]\tLoss: 0.281110\n",
      "Train Epoch: 2 [960/1366 (69.767442%)]\tLoss: 0.041266\n",
      "Train Epoch: 2 [1120/1366 (81.395349%)]\tLoss: 0.169298\n",
      "Train Epoch: 2 [1280/1366 (93.023256%)]\tLoss: 0.045258\n",
      "Train set: Average loss: 0.0101\n",
      "\n",
      "Val set: Average loss: 0.2343, Accuracy: 422/455 (93%)\n",
      "\n",
      "Train Epoch: 3 [0/1366 (0.000000%)]\tLoss: 0.056580\n",
      "Train Epoch: 3 [160/1366 (11.627907%)]\tLoss: 0.053088\n",
      "Train Epoch: 3 [320/1366 (23.255814%)]\tLoss: 0.025169\n",
      "Train Epoch: 3 [480/1366 (34.883721%)]\tLoss: 0.057627\n",
      "Train Epoch: 3 [640/1366 (46.511628%)]\tLoss: 0.021878\n",
      "Train Epoch: 3 [800/1366 (58.139535%)]\tLoss: 0.028223\n",
      "Train Epoch: 3 [960/1366 (69.767442%)]\tLoss: 0.023144\n",
      "Train Epoch: 3 [1120/1366 (81.395349%)]\tLoss: 0.036846\n",
      "Train Epoch: 3 [1280/1366 (93.023256%)]\tLoss: 0.026257\n",
      "Train set: Average loss: 0.0049\n",
      "\n",
      "Val set: Average loss: 0.1385, Accuracy: 428/455 (94%)\n",
      "\n",
      "Train Epoch: 4 [0/1366 (0.000000%)]\tLoss: 0.080249\n",
      "Train Epoch: 4 [160/1366 (11.627907%)]\tLoss: 0.031888\n",
      "Train Epoch: 4 [320/1366 (23.255814%)]\tLoss: 0.181257\n",
      "Train Epoch: 4 [480/1366 (34.883721%)]\tLoss: 0.030639\n",
      "Train Epoch: 4 [640/1366 (46.511628%)]\tLoss: 0.036593\n",
      "Train Epoch: 4 [800/1366 (58.139535%)]\tLoss: 0.121607\n",
      "Train Epoch: 4 [960/1366 (69.767442%)]\tLoss: 0.023336\n",
      "Train Epoch: 4 [1120/1366 (81.395349%)]\tLoss: 0.018352\n",
      "Train Epoch: 4 [1280/1366 (93.023256%)]\tLoss: 0.018239\n",
      "Train set: Average loss: 0.0030\n",
      "\n",
      "Val set: Average loss: 0.1348, Accuracy: 433/455 (95%)\n",
      "\n",
      "Train Epoch: 5 [0/1366 (0.000000%)]\tLoss: 0.088920\n",
      "Train Epoch: 5 [160/1366 (11.627907%)]\tLoss: 0.082587\n",
      "Train Epoch: 5 [320/1366 (23.255814%)]\tLoss: 0.024851\n",
      "Train Epoch: 5 [480/1366 (34.883721%)]\tLoss: 0.013680\n",
      "Train Epoch: 5 [640/1366 (46.511628%)]\tLoss: 0.025028\n",
      "Train Epoch: 5 [800/1366 (58.139535%)]\tLoss: 0.012260\n",
      "Train Epoch: 5 [960/1366 (69.767442%)]\tLoss: 0.015467\n",
      "Train Epoch: 5 [1120/1366 (81.395349%)]\tLoss: 0.018720\n",
      "Train Epoch: 5 [1280/1366 (93.023256%)]\tLoss: 0.044469\n",
      "Train set: Average loss: 0.0020\n",
      "\n",
      "Val set: Average loss: 0.1248, Accuracy: 435/455 (96%)\n",
      "\n",
      "Train Epoch: 6 [0/1366 (0.000000%)]\tLoss: 0.019504\n",
      "Train Epoch: 6 [160/1366 (11.627907%)]\tLoss: 0.031103\n",
      "Train Epoch: 6 [320/1366 (23.255814%)]\tLoss: 0.012847\n",
      "Train Epoch: 6 [480/1366 (34.883721%)]\tLoss: 0.009797\n",
      "Train Epoch: 6 [640/1366 (46.511628%)]\tLoss: 0.002557\n",
      "Train Epoch: 6 [800/1366 (58.139535%)]\tLoss: 0.009680\n",
      "Train Epoch: 6 [960/1366 (69.767442%)]\tLoss: 0.014805\n",
      "Train Epoch: 6 [1120/1366 (81.395349%)]\tLoss: 0.121582\n",
      "Train Epoch: 6 [1280/1366 (93.023256%)]\tLoss: 0.006249\n",
      "Train set: Average loss: 0.0014\n",
      "\n",
      "Val set: Average loss: 0.1270, Accuracy: 434/455 (95%)\n",
      "\n",
      "Train Epoch: 7 [0/1366 (0.000000%)]\tLoss: 0.014175\n",
      "Train Epoch: 7 [160/1366 (11.627907%)]\tLoss: 0.008631\n",
      "Train Epoch: 7 [320/1366 (23.255814%)]\tLoss: 0.018332\n",
      "Train Epoch: 7 [480/1366 (34.883721%)]\tLoss: 0.060482\n",
      "Train Epoch: 7 [640/1366 (46.511628%)]\tLoss: 0.013997\n",
      "Train Epoch: 7 [800/1366 (58.139535%)]\tLoss: 0.007513\n",
      "Train Epoch: 7 [960/1366 (69.767442%)]\tLoss: 0.004272\n",
      "Train Epoch: 7 [1120/1366 (81.395349%)]\tLoss: 0.008969\n",
      "Train Epoch: 7 [1280/1366 (93.023256%)]\tLoss: 0.033091\n",
      "Train set: Average loss: 0.0021\n",
      "\n",
      "Val set: Average loss: 0.1324, Accuracy: 434/455 (95%)\n",
      "\n",
      "Train Epoch: 8 [0/1366 (0.000000%)]\tLoss: 0.010849\n",
      "Train Epoch: 8 [160/1366 (11.627907%)]\tLoss: 0.028892\n",
      "Train Epoch: 8 [320/1366 (23.255814%)]\tLoss: 0.012486\n",
      "Train Epoch: 8 [480/1366 (34.883721%)]\tLoss: 0.003572\n",
      "Train Epoch: 8 [640/1366 (46.511628%)]\tLoss: 0.027018\n",
      "Train Epoch: 8 [800/1366 (58.139535%)]\tLoss: 0.009224\n",
      "Train Epoch: 8 [960/1366 (69.767442%)]\tLoss: 0.005016\n",
      "Train Epoch: 8 [1120/1366 (81.395349%)]\tLoss: 0.004602\n",
      "Train Epoch: 8 [1280/1366 (93.023256%)]\tLoss: 0.013068\n",
      "Train set: Average loss: 0.0009\n",
      "\n",
      "Val set: Average loss: 0.1333, Accuracy: 433/455 (95%)\n",
      "\n",
      "Train Epoch: 9 [0/1366 (0.000000%)]\tLoss: 0.009075\n",
      "Train Epoch: 9 [160/1366 (11.627907%)]\tLoss: 0.006134\n",
      "Train Epoch: 9 [320/1366 (23.255814%)]\tLoss: 0.007468\n",
      "Train Epoch: 9 [480/1366 (34.883721%)]\tLoss: 0.003081\n",
      "Train Epoch: 9 [640/1366 (46.511628%)]\tLoss: 0.006858\n",
      "Train Epoch: 9 [800/1366 (58.139535%)]\tLoss: 0.005974\n",
      "Train Epoch: 9 [960/1366 (69.767442%)]\tLoss: 0.018337\n",
      "Train Epoch: 9 [1120/1366 (81.395349%)]\tLoss: 0.008102\n",
      "Train Epoch: 9 [1280/1366 (93.023256%)]\tLoss: 0.003506\n",
      "Train set: Average loss: 0.0009\n",
      "\n",
      "Val set: Average loss: 0.1389, Accuracy: 433/455 (95%)\n",
      "\n",
      "Train Epoch: 10 [0/1366 (0.000000%)]\tLoss: 0.011026\n",
      "Train Epoch: 10 [160/1366 (11.627907%)]\tLoss: 0.011395\n",
      "Train Epoch: 10 [320/1366 (23.255814%)]\tLoss: 0.028302\n",
      "Train Epoch: 10 [480/1366 (34.883721%)]\tLoss: 0.019479\n",
      "Train Epoch: 10 [640/1366 (46.511628%)]\tLoss: 0.004581\n",
      "Train Epoch: 10 [800/1366 (58.139535%)]\tLoss: 0.077450\n",
      "Train Epoch: 10 [960/1366 (69.767442%)]\tLoss: 0.042437\n",
      "Train Epoch: 10 [1120/1366 (81.395349%)]\tLoss: 0.011172\n",
      "Train Epoch: 10 [1280/1366 (93.023256%)]\tLoss: 0.003281\n",
      "Train set: Average loss: 0.0009\n",
      "\n",
      "Val set: Average loss: 0.1335, Accuracy: 426/455 (94%)\n",
      "\n"
     ]
    }
   ],
   "source": [
    "# train the model\n",
    "epochs =10\n",
    "train_losses = []\n",
    "val_losses = []\n",
    "best_model_wts = copy.deepcopy(model.state_dict())\n",
    "best_acc = 0.0\n",
    "for epoch in range(1, epochs + 1):\n",
    "    train_loss = train(model, device, train_loader, optimizer, epoch)\n",
    "    train_losses.append(train_loss)\n",
    "\n",
    "    val_loss, val_accuracy =val(model, device, val_loader)\n",
    "    val_losses.append(val_loss)\n",
    "    if val_accuracy > best_acc:\n",
    "        best_model_wts = copy.deepcopy(model.state_dict())\n",
    "    scheduler.step()\n",
    "\n"
   ]
  },
  {
   "cell_type": "code",
   "execution_count": 46,
   "metadata": {
    "colab": {
     "base_uri": "https://localhost:8080/",
     "height": 282
    },
    "id": "_4Nw08AIDCKZ",
    "outputId": "65f09beb-1c40-46e6-bc77-e2cc52871b03"
   },
   "outputs": [
    {
     "data": {
      "text/plain": [
       "[<matplotlib.lines.Line2D at 0x13c0306a0>]"
      ]
     },
     "execution_count": 46,
     "metadata": {},
     "output_type": "execute_result"
    },
    {
     "data": {
      "image/png": "[encoded data removed]",
      "text/plain": [
       "<Figure size 432x288 with 1 Axes>"
      ]
     },
     "metadata": {},
     "output_type": "display_data"
    }
   ],
   "source": [
    "# plot train loss\n",
    "plt.semilogy(train_losses)\n"
   ]
  },
  {
   "cell_type": "code",
   "execution_count": 47,
   "metadata": {
    "colab": {
     "base_uri": "https://localhost:8080/",
     "height": 265
    },
    "id": "EOdfU3OYMhcA",
    "outputId": "4c1f94a4-a7e3-4e81-bf79-96ccf42b863c"
   },
   "outputs": [
    {
     "data": {
      "image/png": "[encoded data removed]",
      "text/plain": [
       "<Figure size 432x288 with 1 Axes>"
      ]
     },
     "metadata": {},
     "output_type": "display_data"
    }
   ],
   "source": [
    "# plot validation loss\n",
    "plt.semilogy(val_losses);"
   ]
  },
  {
   "cell_type": "code",
   "execution_count": 51,
   "metadata": {},
   "outputs": [
    {
     "name": "stdout",
     "output_type": "stream",
     "text": [
      "Val set: Average loss: 0.1376, Accuracy: 434/456 (95%)\n",
      "\n"
     ]
    },
    {
     "data": {
      "text/plain": [
       "(0.13756760372371787, 95.17543859649123)"
      ]
     },
     "execution_count": 51,
     "metadata": {},
     "output_type": "execute_result"
    }
   ],
   "source": [
    "#test on the test set\n",
    "val(model, device, test_loader)"
   ]
  },
  {
   "cell_type": "code",
   "execution_count": null,
   "metadata": {
    "colab": {
     "base_uri": "https://localhost:8080/",
     "height": 380
    },
    "id": "cC888IF0t0A-",
    "outputId": "6f9d8057-4abd-4202-d197-76a0e7da163d"
   },
   "outputs": [],
   "source": [
    "# plot the confusion matrix\n",
    "preds,targets = get_all_preds(model, test_loader,device)\n",
    "cm = confusion_matrix(targets,preds.argmax(dim = 1))\n",
    "plot_confusion_matrix(cm,['unmasked','masked','incorrectly_masked'],normalize = False,)"
   ]
  },
  {
   "cell_type": "code",
   "execution_count": 49,
   "metadata": {
    "colab": {
     "base_uri": "https://localhost:8080/",
     "height": 17
    },
    "id": "fboS7PEu2O2P",
    "outputId": "3b41a456-0240-437f-84e3-48cbd9e22a3a"
   },
   "outputs": [
    {
     "ename": "ModuleNotFoundError",
     "evalue": "No module named 'google.colab'",
     "output_type": "error",
     "traceback": [
      "\u001b[0;31m---------------------------------------------------------------------------\u001b[0m",
      "\u001b[0;31mModuleNotFoundError\u001b[0m                       Traceback (most recent call last)",
      "\u001b[0;32m<ipython-input-49-7a26fe9674fc>\u001b[0m in \u001b[0;36m<module>\u001b[0;34m()\u001b[0m\n\u001b[0;32m----> 1\u001b[0;31m \u001b[0;32mfrom\u001b[0m \u001b[0mgoogle\u001b[0m\u001b[0;34m.\u001b[0m\u001b[0mcolab\u001b[0m \u001b[0;32mimport\u001b[0m \u001b[0mfiles\u001b[0m\u001b[0;34m\u001b[0m\u001b[0m\n\u001b[0m\u001b[1;32m      2\u001b[0m \u001b[0mtorch\u001b[0m\u001b[0;34m.\u001b[0m\u001b[0msave\u001b[0m\u001b[0;34m(\u001b[0m\u001b[0mmodel\u001b[0m\u001b[0;34m,\u001b[0m \u001b[0;34m'model.pth'\u001b[0m\u001b[0;34m)\u001b[0m\u001b[0;34m\u001b[0m\u001b[0m\n\u001b[1;32m      3\u001b[0m \u001b[0;34m\u001b[0m\u001b[0m\n\u001b[1;32m      4\u001b[0m \u001b[0;31m# download checkpoint file\u001b[0m\u001b[0;34m\u001b[0m\u001b[0;34m\u001b[0m\u001b[0m\n\u001b[1;32m      5\u001b[0m \u001b[0mfiles\u001b[0m\u001b[0;34m.\u001b[0m\u001b[0mdownload\u001b[0m\u001b[0;34m(\u001b[0m\u001b[0;34m'model.pth'\u001b[0m\u001b[0;34m)\u001b[0m\u001b[0;34m\u001b[0m\u001b[0m\n",
      "\u001b[0;31mModuleNotFoundError\u001b[0m: No module named 'google.colab'"
     ]
    }
   ],
   "source": [
    "torch.save(model, 'model.pth')\n"
   ]
  },
  {
   "cell_type": "code",
   "execution_count": null,
   "metadata": {
    "collapsed": true,
    "id": "SfsGyyz7lKut"
   },
   "outputs": [],
   "source": []
  }
 ],
 "metadata": {
  "accelerator": "GPU",
  "colab": {
   "collapsed_sections": [],
   "name": "Copy of test_classification.ipynb",
   "provenance": []
  },
  "kernelspec": {
   "display_name": "Python 3",
   "language": "python",
   "name": "python3"
  },
  "language_info": {
   "codemirror_mode": {
    "name": "ipython",
    "version": 3
   },
   "file_extension": ".py",
   "mimetype": "text/x-python",
   "name": "python",
   "nbconvert_exporter": "python",
   "pygments_lexer": "ipython3",
   "version": "3.6.3"
  }
 },
 "nbformat": 4,
 "nbformat_minor": 1
}
