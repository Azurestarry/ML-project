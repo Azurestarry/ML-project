{
 "cells": [
  {
   "cell_type": "code",
   "execution_count": 1,
   "metadata": {
    "colab": {
     "base_uri": "https://localhost:8080/"
    },
    "id": "WhLDEnGw6xEg",
    "outputId": "c63ace9e-6905-4051-8f9c-dd5a2b9c063b"
   },
   "outputs": [],
   "source": [
    "# import packages\n",
    "import pickle\n",
    "import matplotlib.pyplot as plt\n",
    "import copy\n",
    "\n",
    "import torch\n",
    "import torch.autograd as autograd\n",
    "import torch.nn as nn\n",
    "import torch.nn.functional as F\n",
    "import torch.optim as optim \n",
    "import numpy as np\n",
    "from torch.utils.data import Dataset\n",
    "import torchvision.models as models\n",
    "from torchvision import transforms as T\n",
    "\n",
    "from sklearn.metrics import confusion_matrix\n",
    "import itertools\n",
    "\n",
    "%matplotlib inline"
   ]
  },
  {
   "cell_type": "code",
   "execution_count": 2,
   "metadata": {},
   "outputs": [
    {
     "name": "stdout",
     "output_type": "stream",
     "text": [
      "['.DS_Store', '.ipynb_checkpoints', 'dataset', 'data_preprocessing.ipynb', 'haarcascade_frontalface_default.xml', 'model.pth', 'opencv_demo.py', 'README.md', 'Transfer_learning.ipynb', 'yolo']\n",
      "{'face': array([[[ 67,  70,  74, ..., 130, 131, 132],\n",
      "        [ 67,  70,  74, ..., 128, 128, 128],\n",
      "        [ 67,  70,  74, ..., 126, 123, 121],\n",
      "        ...,\n",
      "        [ 76,  72,  65, ...,  93,  98, 101],\n",
      "        [ 78,  74,  67, ...,  94, 101, 105],\n",
      "        [ 79,  75,  69, ...,  94, 103, 108]],\n",
      "\n",
      "       [[ 67,  68,  70, ..., 114, 116, 117],\n",
      "        [ 67,  68,  70, ..., 113, 113, 114],\n",
      "        [ 68,  69,  71, ..., 110, 110, 109],\n",
      "        ...,\n",
      "        [ 49,  47,  43, ...,  51,  57,  60],\n",
      "        [ 47,  45,  43, ...,  46,  53,  57],\n",
      "        [ 46,  45,  43, ...,  43,  51,  56]],\n",
      "\n",
      "       [[ 75,  75,  77, ..., 115, 118, 120],\n",
      "        [ 74,  75,  77, ..., 114, 116, 117],\n",
      "        [ 73,  75,  78, ..., 111, 111, 111],\n",
      "        ...,\n",
      "        [ 54,  52,  48, ...,  65,  71,  74],\n",
      "        [ 53,  52,  49, ...,  61,  68,  72],\n",
      "        [ 53,  51,  49, ...,  58,  66,  71]]], dtype=uint8), 'label': 'without_mask'}\n"
     ]
    }
   ],
   "source": [
    "\n",
    "# load the pickled dataset\n",
    "from os import chdir, listdir\n",
    "\n",
    "chdir('./')\n",
    "print(listdir('./'))\n",
    "\n",
    "data_dict = pickle.load(open('./dataset/obj_dict.dat', 'rb'))\n",
    "\n",
    "\n",
    "dataset = data_dict['added_filter_20_dataset_chw']\n",
    "dataset = dataset['data']\n",
    "print(dataset[0])"
   ]
  },
  {
   "cell_type": "code",
   "execution_count": 3,
   "metadata": {
    "colab": {
     "base_uri": "https://localhost:8080/",
     "height": 268
    },
    "id": "KsDqxQ2_tfT8",
    "outputId": "ce42b5e2-a875-4015-d361-4e7bbfd0a356"
   },
   "outputs": [
    {
     "data": {
      "image/png": "[encoded data removed]",
      "text/plain": [
       "<Figure size 432x288 with 1 Axes>"
      ]
     },
     "metadata": {
      "needs_background": "light"
     },
     "output_type": "display_data"
    }
   ],
   "source": [
    "# A sample img in the dataset\n",
    "plt.imshow(np.transpose(dataset[20]['face'],(1,2,0)));"
   ]
  },
  {
   "cell_type": "code",
   "execution_count": 4,
   "metadata": {
    "id": "KbVtmBEmB5ci"
   },
   "outputs": [],
   "source": [
    "# Construct the custom dataset class\n",
    "class MyDataset(Dataset):\n",
    "    def __init__(self, dataset):\n",
    "        self.dataset = dataset\n",
    "        self.label_dict = {'without_mask':0,'with_mask':1,'mask_weared_incorrect':2}\n",
    "    \n",
    "    def __getitem__(self, index):\n",
    "        img = self.dataset[index]['face']\n",
    "        label = self.label_dict[self.dataset[index]['label']]\n",
    "        img = torch.as_tensor(img, dtype=torch.float32)\n",
    "        #Normalize pixel values with mean = 0.5 and std = 0.5\n",
    "        img = (img/255-0.5)/0.5\n",
    "        label = torch.tensor(label)\n",
    "\n",
    "\n",
    "        return img, label\n",
    "    \n",
    "    def __len__(self):\n",
    "        return len(self.dataset)"
   ]
  },
  {
   "cell_type": "code",
   "execution_count": 5,
   "metadata": {
    "id": "yDhuHAMASQom"
   },
   "outputs": [],
   "source": [
    "face_dataset = MyDataset(dataset)\n",
    "dataset_size = len(dataset)\n",
    "\n",
    "# Split dataset into training set, validation set, and test set\n",
    "train_size = int(dataset_size * 0.6)\n",
    "val_size = int(dataset_size * 0.2)\n",
    "test_size = dataset_size - train_size - val_size\n",
    "\n",
    "train_dataset, val_dataset, test_dataset = torch.utils.data.random_split(face_dataset, [train_size, val_size, test_size])"
   ]
  },
  {
   "cell_type": "code",
   "execution_count": 6,
   "metadata": {
    "id": "4Zy_xLEBeUXP"
   },
   "outputs": [],
   "source": [
    "BATCH_SIZE = 30\n",
    "\n",
    "train_loader = torch.utils.data.DataLoader(train_dataset,\n",
    "                                          batch_size=BATCH_SIZE,\n",
    "                                          shuffle=True)\n",
    "\n",
    "val_loader = torch.utils.data.DataLoader(val_dataset,\n",
    "                                          batch_size=BATCH_SIZE,\n",
    "                                          shuffle=True)\n",
    "\n",
    "test_loader = torch.utils.data.DataLoader(test_dataset,\n",
    "                                          batch_size=BATCH_SIZE,\n",
    "                                          shuffle=True)"
   ]
  },
  {
   "cell_type": "code",
   "execution_count": 7,
   "metadata": {
    "id": "zOLjEzL1eWsV"
   },
   "outputs": [],
   "source": [
    "# Build a simple CNN \n",
    "\n",
    "class Net(nn.Module):\n",
    "    def __init__(self):\n",
    "        super(Net, self).__init__()\n",
    "        self.conv1 = nn.Conv2d(3, 20, 5, 1)    # input 3 channel for rgb images. Add 20 filters, 5x5 size\n",
    "        self.conv2 = nn.Conv2d(20, 50, 5, 1)   # input 20 channel, previous layer has 20 filters. 50 filters, 5x5 size\n",
    "        self.fc1 = nn.Linear(13*13*50, 500)      # 13*13*50 --> 500 linear layer\n",
    "        self.fc2 = nn.Linear(500, 3)          # 500 --> 3 linear layer\n",
    "\n",
    "    def forward(self, x):  \n",
    "        x = F.relu(self.conv1(x)) \n",
    "        x = F.max_pool2d(x, 2, 2) \n",
    "        x = F.relu(self.conv2(x)) \n",
    "        x = F.max_pool2d(x, 2, 2) \n",
    "        x = x.view(-1, 13*13*50)   \n",
    "        x = F.relu(self.fc1(x))   \n",
    "        x = self.fc2(x)           \n",
    "        return F.log_softmax(x, dim=1)  "
   ]
  },
  {
   "cell_type": "code",
   "execution_count": 8,
   "metadata": {
    "id": "PXZjsXZtp0Un"
   },
   "outputs": [],
   "source": [
    "def train(model, device, train_loader, optimizer, epoch, log_interval=10):\n",
    "    train_loss = 0\n",
    "    correct = 0\n",
    "    model.train() \n",
    "    for batch_idx, (img, label) in enumerate(train_loader):   \n",
    "        \n",
    "        img, label = img.to(device), label.to(device)     # use gpu if possible\n",
    "        optimizer.zero_grad()                                 # clean gradients\n",
    "        output = model(img)\n",
    "        loss = criterion(output, label)                      # what is loss\n",
    "        train_loss += loss.item()* len(img)\n",
    "\n",
    "        pred = output.argmax(dim=1, keepdim=True) # get the index of the max log-probability\n",
    "            \n",
    "\n",
    "        correct += pred.eq(label.view_as(pred)).sum().item()\n",
    "\n",
    "        loss.backward()                                       # calculate loss\n",
    "        optimizer.step()                                      # update weights\n",
    "        if batch_idx % log_interval == 0:\n",
    "            print(\"Train Epoch: {} [{}/{} ({:0f}%)]\\tLoss: {:.6f}\".format(\n",
    "                epoch, \n",
    "                batch_idx * len(img), \n",
    "                len(train_loader.dataset), \n",
    "                100. * batch_idx / len(train_loader), \n",
    "                loss.item()\n",
    "            ))\n",
    "        \n",
    "    train_loss /=len(train_loader.dataset)\n",
    "    accuracy = 100. * correct / len(train_loader.dataset)\n",
    "    print('\\nTrain set: Average loss: {:.4f}, Accuracy: {}/{} ({:.0f}%)\\n'.format(\n",
    "        train_loss,correct, len(train_loader.dataset), accuracy))\n",
    "    return train_loss, accuracy\n"
   ]
  },
  {
   "cell_type": "code",
   "execution_count": 9,
   "metadata": {
    "id": "pfs3L0FMM5fI"
   },
   "outputs": [],
   "source": [
    "def val(model, device, val_loader):\n",
    "    model.eval()\n",
    "    val_loss = 0\n",
    "    correct = 0\n",
    "    with torch.no_grad():\n",
    "        for img, label in val_loader:\n",
    "            img, label = img.to(device), label.to(device)\n",
    "            output = model(img) \n",
    "            loss = criterion(output, label)  \n",
    "            val_loss += loss.item()*len(img)\n",
    "                       \n",
    "            pred = output.argmax(dim=1, keepdim=True) # get the index of the max log-probability\n",
    "            \n",
    "\n",
    "            correct += pred.eq(label.view_as(pred)).sum().item()\n",
    "\n",
    "\n",
    "    val_loss /= len(val_loader.dataset)\n",
    "    accuracy = 100. * correct / len(val_loader.dataset)\n",
    "\n",
    "    print('Val set: Average loss: {:.4f}, Accuracy: {}/{} ({:.0f}%)\\n'.format(\n",
    "        val_loss, correct, len(val_loader.dataset), accuracy\n",
    "        ))\n",
    "    return val_loss, accuracy"
   ]
  },
  {
   "cell_type": "code",
   "execution_count": 10,
   "metadata": {
    "id": "BKSjnP61vgw5"
   },
   "outputs": [],
   "source": [
    "# This is a function to get all the predictions in the test set.\n",
    "def get_all_preds(model, loader,device):\n",
    "    all_preds = torch.tensor([])\n",
    "    targets =torch.tensor([])\n",
    "    with torch.no_grad():\n",
    "        for batch in loader:\n",
    "            img, label = batch\n",
    "            img, label = img.to(device), label.to(device)\n",
    "            preds = torch.Tensor.cpu(model(img))\n",
    "            all_preds = torch.cat(\n",
    "                (all_preds, preds)\n",
    "                ,dim=0\n",
    "            )\n",
    "            targets = torch.cat((targets,torch.Tensor.cpu(label)),dim = 0)\n",
    "    return all_preds, targets.int()"
   ]
  },
  {
   "cell_type": "code",
   "execution_count": 11,
   "metadata": {
    "id": "Bu95uCc5thII"
   },
   "outputs": [],
   "source": [
    "# function to plot the confusion matrix\n",
    "def plot_confusion_matrix(cm, classes, normalize=False, title='Confusion matrix', cmap=plt.cm.Blues):\n",
    "    if normalize:\n",
    "        cm = cm.astype('float') / cm.sum(axis=1)[:, np.newaxis]\n",
    "        print(\"Normalized confusion matrix\")\n",
    "    else:\n",
    "        print('Confusion matrix, without normalization')\n",
    "\n",
    "    print(cm)\n",
    "    plt.imshow(cm, interpolation='nearest', cmap=cmap)\n",
    "    plt.title(title)\n",
    "    plt.colorbar()\n",
    "    tick_marks = np.arange(len(classes))\n",
    "    plt.xticks(tick_marks, classes, rotation=45)\n",
    "    plt.yticks(tick_marks, classes)\n",
    "\n",
    "    fmt = '.2f' if normalize else 'd'\n",
    "    thresh = cm.max() / 2.\n",
    "    for i, j in itertools.product(range(cm.shape[0]), range(cm.shape[1])):\n",
    "        plt.text(j, i, format(cm[i, j], fmt), horizontalalignment=\"center\", color=\"white\" if cm[i, j] > thresh else \"black\")\n",
    "\n",
    "    plt.tight_layout()\n",
    "    plt.ylabel('True label')\n",
    "    plt.xlabel('Predicted label')"
   ]
  },
  {
   "cell_type": "code",
   "execution_count": 12,
   "metadata": {
    "id": "pABjhK0tpmBn"
   },
   "outputs": [
    {
     "name": "stdout",
     "output_type": "stream",
     "text": [
      "tensor([0.2047, 0.8647, 0.9306], device='cuda:0')\n"
     ]
    }
   ],
   "source": [
    "\n",
    "# --------------------------uncomment the following three lines if you would like to train a resnet-------------------\n",
    "# model = models.resnet50(pretrained=True)\n",
    "# num_ftrs = model.fc.in_features\n",
    "# model.fc = nn.Linear(num_ftrs, 3)\n",
    "\n",
    "\n",
    "# --------------------------uncomment the following two lines if you would like to train VGG16 -----------------------\n",
    "model = models.vgg16(pretrained=True)\n",
    "model.classifier[-1] = nn.Linear(in_features=4096, out_features=3)\n",
    "\n",
    "\n",
    "# --------------------------uncomment the following one line if you would like to train the cnn we build above -------\n",
    "# model = Net()\n",
    "\n",
    "\n",
    "use_cuda = torch.cuda.is_available()  \n",
    "device = torch.device(\"cuda\" if use_cuda else \"cpu\")  \n",
    "lr = 0.01\n",
    "\n",
    "# # move model to the right device\n",
    "model.to(device)\n",
    "# define optimizer\n",
    "optimizer = optim.SGD(model.parameters(), lr=lr,momentum = 0.5) \n",
    "# Define Loss function\n",
    "\n",
    "weights = torch.tensor([1811,308,158],dtype = torch.float32).to(device)\n",
    "weights = weights / weights.sum()\n",
    "weights = 1-weights\n",
    "print(weights)\n",
    "\n",
    "\n",
    "criterion = nn.CrossEntropyLoss(weight = weights)\n"
   ]
  },
  {
   "cell_type": "code",
   "execution_count": 13,
   "metadata": {
    "colab": {
     "base_uri": "https://localhost:8080/"
    },
    "id": "ytqtJO9nr1Tx",
    "outputId": "fa910954-01fa-4840-fad8-2558bdc8a778"
   },
   "outputs": [
    {
     "name": "stdout",
     "output_type": "stream",
     "text": [
      "Train Epoch: 1 [0/1366 (0.000000%)]\tLoss: 1.567774\n",
      "Train Epoch: 1 [300/1366 (21.739130%)]\tLoss: 0.511630\n",
      "Train Epoch: 1 [600/1366 (43.478261%)]\tLoss: 0.456628\n",
      "Train Epoch: 1 [900/1366 (65.217391%)]\tLoss: 0.297776\n",
      "Train Epoch: 1 [1200/1366 (86.956522%)]\tLoss: 0.282938\n",
      "\n",
      "Train set: Average loss: 0.3753, Accuracy: 1098/1366 (80%)\n",
      "\n",
      "Val set: Average loss: 0.2578, Accuracy: 397/455 (87%)\n",
      "\n",
      "Train Epoch: 2 [0/1366 (0.000000%)]\tLoss: 0.170019\n",
      "Train Epoch: 2 [300/1366 (21.739130%)]\tLoss: 0.079919\n",
      "Train Epoch: 2 [600/1366 (43.478261%)]\tLoss: 0.079684\n",
      "Train Epoch: 2 [900/1366 (65.217391%)]\tLoss: 0.080613\n",
      "Train Epoch: 2 [1200/1366 (86.956522%)]\tLoss: 0.102506\n",
      "\n",
      "Train set: Average loss: 0.1651, Accuracy: 1254/1366 (92%)\n",
      "\n",
      "Val set: Average loss: 0.1849, Accuracy: 423/455 (93%)\n",
      "\n",
      "Train Epoch: 3 [0/1366 (0.000000%)]\tLoss: 0.062818\n",
      "Train Epoch: 3 [300/1366 (21.739130%)]\tLoss: 0.068592\n",
      "Train Epoch: 3 [600/1366 (43.478261%)]\tLoss: 0.053363\n",
      "Train Epoch: 3 [900/1366 (65.217391%)]\tLoss: 0.026516\n",
      "Train Epoch: 3 [1200/1366 (86.956522%)]\tLoss: 0.031964\n",
      "\n",
      "Train set: Average loss: 0.0752, Accuracy: 1309/1366 (96%)\n",
      "\n",
      "Val set: Average loss: 0.1639, Accuracy: 425/455 (93%)\n",
      "\n",
      "Train Epoch: 4 [0/1366 (0.000000%)]\tLoss: 0.009230\n",
      "Train Epoch: 4 [300/1366 (21.739130%)]\tLoss: 0.103205\n",
      "Train Epoch: 4 [600/1366 (43.478261%)]\tLoss: 0.040143\n",
      "Train Epoch: 4 [900/1366 (65.217391%)]\tLoss: 0.019901\n",
      "Train Epoch: 4 [1200/1366 (86.956522%)]\tLoss: 0.038329\n",
      "\n",
      "Train set: Average loss: 0.0417, Accuracy: 1323/1366 (97%)\n",
      "\n",
      "Val set: Average loss: 0.1448, Accuracy: 420/455 (92%)\n",
      "\n",
      "Train Epoch: 5 [0/1366 (0.000000%)]\tLoss: 0.072545\n",
      "Train Epoch: 5 [300/1366 (21.739130%)]\tLoss: 0.009625\n",
      "Train Epoch: 5 [600/1366 (43.478261%)]\tLoss: 0.001071\n",
      "Train Epoch: 5 [900/1366 (65.217391%)]\tLoss: 0.002957\n",
      "Train Epoch: 5 [1200/1366 (86.956522%)]\tLoss: 0.002497\n",
      "\n",
      "Train set: Average loss: 0.0186, Accuracy: 1342/1366 (98%)\n",
      "\n",
      "Val set: Average loss: 0.1445, Accuracy: 436/455 (96%)\n",
      "\n",
      "Train Epoch: 6 [0/1366 (0.000000%)]\tLoss: 0.001848\n",
      "Train Epoch: 6 [300/1366 (21.739130%)]\tLoss: 0.003805\n",
      "Train Epoch: 6 [600/1366 (43.478261%)]\tLoss: 0.001865\n",
      "Train Epoch: 6 [900/1366 (65.217391%)]\tLoss: 0.006859\n",
      "Train Epoch: 6 [1200/1366 (86.956522%)]\tLoss: 0.000227\n",
      "\n",
      "Train set: Average loss: 0.0061, Accuracy: 1359/1366 (99%)\n",
      "\n",
      "Val set: Average loss: 0.1839, Accuracy: 436/455 (96%)\n",
      "\n",
      "Train Epoch: 7 [0/1366 (0.000000%)]\tLoss: 0.000310\n",
      "Train Epoch: 7 [300/1366 (21.739130%)]\tLoss: 0.000203\n",
      "Train Epoch: 7 [600/1366 (43.478261%)]\tLoss: 0.003721\n",
      "Train Epoch: 7 [900/1366 (65.217391%)]\tLoss: 0.001436\n",
      "Train Epoch: 7 [1200/1366 (86.956522%)]\tLoss: 0.000057\n",
      "\n",
      "Train set: Average loss: 0.0110, Accuracy: 1355/1366 (99%)\n",
      "\n",
      "Val set: Average loss: 0.1691, Accuracy: 420/455 (92%)\n",
      "\n",
      "Train Epoch: 8 [0/1366 (0.000000%)]\tLoss: 0.016906\n",
      "Train Epoch: 8 [300/1366 (21.739130%)]\tLoss: 0.000690\n",
      "Train Epoch: 8 [600/1366 (43.478261%)]\tLoss: 0.000519\n",
      "Train Epoch: 8 [900/1366 (65.217391%)]\tLoss: 0.001711\n",
      "Train Epoch: 8 [1200/1366 (86.956522%)]\tLoss: 0.000106\n",
      "\n",
      "Train set: Average loss: 0.0060, Accuracy: 1360/1366 (100%)\n",
      "\n",
      "Val set: Average loss: 0.2018, Accuracy: 433/455 (95%)\n",
      "\n",
      "Train Epoch: 9 [0/1366 (0.000000%)]\tLoss: 0.001598\n",
      "Train Epoch: 9 [300/1366 (21.739130%)]\tLoss: 0.005859\n",
      "Train Epoch: 9 [600/1366 (43.478261%)]\tLoss: 0.000519\n",
      "Train Epoch: 9 [900/1366 (65.217391%)]\tLoss: 0.000253\n",
      "Train Epoch: 9 [1200/1366 (86.956522%)]\tLoss: 0.000625\n",
      "\n",
      "Train set: Average loss: 0.0016, Accuracy: 1366/1366 (100%)\n",
      "\n",
      "Val set: Average loss: 0.2160, Accuracy: 433/455 (95%)\n",
      "\n",
      "Train Epoch: 10 [0/1366 (0.000000%)]\tLoss: 0.000571\n",
      "Train Epoch: 10 [300/1366 (21.739130%)]\tLoss: 0.007497\n",
      "Train Epoch: 10 [600/1366 (43.478261%)]\tLoss: 0.000298\n",
      "Train Epoch: 10 [900/1366 (65.217391%)]\tLoss: 0.000411\n",
      "Train Epoch: 10 [1200/1366 (86.956522%)]\tLoss: 0.001066\n",
      "\n",
      "Train set: Average loss: 0.0010, Accuracy: 1366/1366 (100%)\n",
      "\n",
      "Val set: Average loss: 0.2274, Accuracy: 434/455 (95%)\n",
      "\n",
      "Train Epoch: 11 [0/1366 (0.000000%)]\tLoss: 0.000160\n",
      "Train Epoch: 11 [300/1366 (21.739130%)]\tLoss: 0.000062\n",
      "Train Epoch: 11 [600/1366 (43.478261%)]\tLoss: 0.000101\n",
      "Train Epoch: 11 [900/1366 (65.217391%)]\tLoss: 0.000115\n",
      "Train Epoch: 11 [1200/1366 (86.956522%)]\tLoss: 0.000151\n",
      "\n",
      "Train set: Average loss: 0.0007, Accuracy: 1366/1366 (100%)\n",
      "\n",
      "Val set: Average loss: 0.2570, Accuracy: 436/455 (96%)\n",
      "\n",
      "Train Epoch: 12 [0/1366 (0.000000%)]\tLoss: 0.000154\n",
      "Train Epoch: 12 [300/1366 (21.739130%)]\tLoss: 0.000042\n",
      "Train Epoch: 12 [600/1366 (43.478261%)]\tLoss: 0.000562\n",
      "Train Epoch: 12 [900/1366 (65.217391%)]\tLoss: 0.007235\n",
      "Train Epoch: 12 [1200/1366 (86.956522%)]\tLoss: 0.000264\n",
      "\n",
      "Train set: Average loss: 0.0010, Accuracy: 1366/1366 (100%)\n",
      "\n",
      "Val set: Average loss: 0.2146, Accuracy: 434/455 (95%)\n",
      "\n",
      "Train Epoch: 13 [0/1366 (0.000000%)]\tLoss: 0.000162\n",
      "Train Epoch: 13 [300/1366 (21.739130%)]\tLoss: 0.000020\n",
      "Train Epoch: 13 [600/1366 (43.478261%)]\tLoss: 0.000119\n",
      "Train Epoch: 13 [900/1366 (65.217391%)]\tLoss: 0.007038\n",
      "Train Epoch: 13 [1200/1366 (86.956522%)]\tLoss: 0.000073\n",
      "\n",
      "Train set: Average loss: 0.0007, Accuracy: 1365/1366 (100%)\n",
      "\n",
      "Val set: Average loss: 0.2584, Accuracy: 433/455 (95%)\n",
      "\n",
      "Train Epoch: 14 [0/1366 (0.000000%)]\tLoss: 0.000060\n",
      "Train Epoch: 14 [300/1366 (21.739130%)]\tLoss: 0.000807\n",
      "Train Epoch: 14 [600/1366 (43.478261%)]\tLoss: 0.000152\n",
      "Train Epoch: 14 [900/1366 (65.217391%)]\tLoss: 0.000063\n",
      "Train Epoch: 14 [1200/1366 (86.956522%)]\tLoss: 0.000607\n",
      "\n",
      "Train set: Average loss: 0.0003, Accuracy: 1366/1366 (100%)\n",
      "\n",
      "Val set: Average loss: 0.2799, Accuracy: 433/455 (95%)\n",
      "\n",
      "Train Epoch: 15 [0/1366 (0.000000%)]\tLoss: 0.000169\n",
      "Train Epoch: 15 [300/1366 (21.739130%)]\tLoss: 0.000038\n",
      "Train Epoch: 15 [600/1366 (43.478261%)]\tLoss: 0.000096\n",
      "Train Epoch: 15 [900/1366 (65.217391%)]\tLoss: 0.000225\n",
      "Train Epoch: 15 [1200/1366 (86.956522%)]\tLoss: 0.001173\n",
      "\n",
      "Train set: Average loss: 0.0005, Accuracy: 1366/1366 (100%)\n",
      "\n",
      "Val set: Average loss: 0.2937, Accuracy: 434/455 (95%)\n",
      "\n",
      "Train Epoch: 16 [0/1366 (0.000000%)]\tLoss: 0.000003\n",
      "Train Epoch: 16 [300/1366 (21.739130%)]\tLoss: 0.000120\n",
      "Train Epoch: 16 [600/1366 (43.478261%)]\tLoss: 0.002606\n",
      "Train Epoch: 16 [900/1366 (65.217391%)]\tLoss: 0.000036\n",
      "Train Epoch: 16 [1200/1366 (86.956522%)]\tLoss: 0.000019\n",
      "\n",
      "Train set: Average loss: 0.0002, Accuracy: 1366/1366 (100%)\n",
      "\n",
      "Val set: Average loss: 0.2947, Accuracy: 433/455 (95%)\n",
      "\n",
      "Train Epoch: 17 [0/1366 (0.000000%)]\tLoss: 0.000095\n",
      "Train Epoch: 17 [300/1366 (21.739130%)]\tLoss: 0.000008\n",
      "Train Epoch: 17 [600/1366 (43.478261%)]\tLoss: 0.000341\n",
      "Train Epoch: 17 [900/1366 (65.217391%)]\tLoss: 0.000064\n",
      "Train Epoch: 17 [1200/1366 (86.956522%)]\tLoss: 0.000376\n",
      "\n",
      "Train set: Average loss: 0.0002, Accuracy: 1366/1366 (100%)\n",
      "\n",
      "Val set: Average loss: 0.2976, Accuracy: 433/455 (95%)\n",
      "\n",
      "Train Epoch: 18 [0/1366 (0.000000%)]\tLoss: 0.000001\n",
      "Train Epoch: 18 [300/1366 (21.739130%)]\tLoss: 0.000008\n",
      "Train Epoch: 18 [600/1366 (43.478261%)]\tLoss: 0.000031\n",
      "Train Epoch: 18 [900/1366 (65.217391%)]\tLoss: 0.000024\n",
      "Train Epoch: 18 [1200/1366 (86.956522%)]\tLoss: 0.000151\n",
      "\n",
      "Train set: Average loss: 0.0001, Accuracy: 1366/1366 (100%)\n",
      "\n",
      "Val set: Average loss: 0.2954, Accuracy: 433/455 (95%)\n",
      "\n",
      "Train Epoch: 19 [0/1366 (0.000000%)]\tLoss: 0.000014\n",
      "Train Epoch: 19 [300/1366 (21.739130%)]\tLoss: 0.000002\n",
      "Train Epoch: 19 [600/1366 (43.478261%)]\tLoss: 0.000035\n",
      "Train Epoch: 19 [900/1366 (65.217391%)]\tLoss: 0.000014\n",
      "Train Epoch: 19 [1200/1366 (86.956522%)]\tLoss: 0.000957\n",
      "\n",
      "Train set: Average loss: 0.0002, Accuracy: 1366/1366 (100%)\n",
      "\n",
      "Val set: Average loss: 0.2931, Accuracy: 433/455 (95%)\n",
      "\n",
      "Train Epoch: 20 [0/1366 (0.000000%)]\tLoss: 0.000031\n",
      "Train Epoch: 20 [300/1366 (21.739130%)]\tLoss: 0.000039\n",
      "Train Epoch: 20 [600/1366 (43.478261%)]\tLoss: 0.000005\n",
      "Train Epoch: 20 [900/1366 (65.217391%)]\tLoss: 0.000003\n",
      "Train Epoch: 20 [1200/1366 (86.956522%)]\tLoss: 0.000008\n",
      "\n",
      "Train set: Average loss: 0.0001, Accuracy: 1366/1366 (100%)\n",
      "\n",
      "Val set: Average loss: 0.2940, Accuracy: 433/455 (95%)\n",
      "\n",
      "Train Epoch: 21 [0/1366 (0.000000%)]\tLoss: 0.000097\n",
      "Train Epoch: 21 [300/1366 (21.739130%)]\tLoss: 0.000006\n",
      "Train Epoch: 21 [600/1366 (43.478261%)]\tLoss: 0.000036\n",
      "Train Epoch: 21 [900/1366 (65.217391%)]\tLoss: 0.000006\n",
      "Train Epoch: 21 [1200/1366 (86.956522%)]\tLoss: 0.000014\n",
      "\n",
      "Train set: Average loss: 0.0001, Accuracy: 1366/1366 (100%)\n",
      "\n",
      "Val set: Average loss: 0.2993, Accuracy: 433/455 (95%)\n",
      "\n",
      "Train Epoch: 22 [0/1366 (0.000000%)]\tLoss: 0.000001\n"
     ]
    },
    {
     "name": "stdout",
     "output_type": "stream",
     "text": [
      "Train Epoch: 22 [300/1366 (21.739130%)]\tLoss: 0.000046\n",
      "Train Epoch: 22 [600/1366 (43.478261%)]\tLoss: 0.000947\n",
      "Train Epoch: 22 [900/1366 (65.217391%)]\tLoss: 0.000244\n",
      "Train Epoch: 22 [1200/1366 (86.956522%)]\tLoss: 0.000003\n",
      "\n",
      "Train set: Average loss: 0.0001, Accuracy: 1366/1366 (100%)\n",
      "\n",
      "Val set: Average loss: 0.3163, Accuracy: 432/455 (95%)\n",
      "\n",
      "Train Epoch: 23 [0/1366 (0.000000%)]\tLoss: 0.000038\n",
      "Train Epoch: 23 [300/1366 (21.739130%)]\tLoss: 0.000090\n",
      "Train Epoch: 23 [600/1366 (43.478261%)]\tLoss: 0.000043\n",
      "Train Epoch: 23 [900/1366 (65.217391%)]\tLoss: 0.000071\n",
      "Train Epoch: 23 [1200/1366 (86.956522%)]\tLoss: 0.000001\n",
      "\n",
      "Train set: Average loss: 0.0001, Accuracy: 1366/1366 (100%)\n",
      "\n",
      "Val set: Average loss: 0.3170, Accuracy: 432/455 (95%)\n",
      "\n",
      "Train Epoch: 24 [0/1366 (0.000000%)]\tLoss: 0.000396\n",
      "Train Epoch: 24 [300/1366 (21.739130%)]\tLoss: 0.000021\n",
      "Train Epoch: 24 [600/1366 (43.478261%)]\tLoss: 0.000001\n",
      "Train Epoch: 24 [900/1366 (65.217391%)]\tLoss: 0.000016\n",
      "Train Epoch: 24 [1200/1366 (86.956522%)]\tLoss: 0.000046\n",
      "\n",
      "Train set: Average loss: 0.0001, Accuracy: 1366/1366 (100%)\n",
      "\n",
      "Val set: Average loss: 0.3192, Accuracy: 433/455 (95%)\n",
      "\n",
      "Train Epoch: 25 [0/1366 (0.000000%)]\tLoss: 0.000051\n",
      "Train Epoch: 25 [300/1366 (21.739130%)]\tLoss: 0.000009\n",
      "Train Epoch: 25 [600/1366 (43.478261%)]\tLoss: 0.000067\n",
      "Train Epoch: 25 [900/1366 (65.217391%)]\tLoss: 0.000003\n",
      "Train Epoch: 25 [1200/1366 (86.956522%)]\tLoss: 0.000001\n",
      "\n",
      "Train set: Average loss: 0.0001, Accuracy: 1366/1366 (100%)\n",
      "\n",
      "Val set: Average loss: 0.3116, Accuracy: 433/455 (95%)\n",
      "\n",
      "Train Epoch: 26 [0/1366 (0.000000%)]\tLoss: 0.000032\n",
      "Train Epoch: 26 [300/1366 (21.739130%)]\tLoss: 0.000048\n",
      "Train Epoch: 26 [600/1366 (43.478261%)]\tLoss: 0.000109\n",
      "Train Epoch: 26 [900/1366 (65.217391%)]\tLoss: 0.000002\n",
      "Train Epoch: 26 [1200/1366 (86.956522%)]\tLoss: 0.001195\n",
      "\n",
      "Train set: Average loss: 0.0001, Accuracy: 1366/1366 (100%)\n",
      "\n",
      "Val set: Average loss: 0.3149, Accuracy: 435/455 (96%)\n",
      "\n",
      "Train Epoch: 27 [0/1366 (0.000000%)]\tLoss: 0.000873\n",
      "Train Epoch: 27 [300/1366 (21.739130%)]\tLoss: 0.000076\n",
      "Train Epoch: 27 [600/1366 (43.478261%)]\tLoss: 0.000035\n",
      "Train Epoch: 27 [900/1366 (65.217391%)]\tLoss: 0.000022\n",
      "Train Epoch: 27 [1200/1366 (86.956522%)]\tLoss: 0.000003\n",
      "\n",
      "Train set: Average loss: 0.0001, Accuracy: 1366/1366 (100%)\n",
      "\n",
      "Val set: Average loss: 0.3159, Accuracy: 433/455 (95%)\n",
      "\n",
      "Train Epoch: 28 [0/1366 (0.000000%)]\tLoss: 0.000161\n",
      "Train Epoch: 28 [300/1366 (21.739130%)]\tLoss: 0.000011\n",
      "Train Epoch: 28 [600/1366 (43.478261%)]\tLoss: 0.000008\n",
      "Train Epoch: 28 [900/1366 (65.217391%)]\tLoss: 0.000013\n",
      "Train Epoch: 28 [1200/1366 (86.956522%)]\tLoss: 0.000006\n",
      "\n",
      "Train set: Average loss: 0.0001, Accuracy: 1366/1366 (100%)\n",
      "\n",
      "Val set: Average loss: 0.3180, Accuracy: 433/455 (95%)\n",
      "\n",
      "Train Epoch: 29 [0/1366 (0.000000%)]\tLoss: 0.000004\n",
      "Train Epoch: 29 [300/1366 (21.739130%)]\tLoss: 0.000021\n",
      "Train Epoch: 29 [600/1366 (43.478261%)]\tLoss: 0.000001\n",
      "Train Epoch: 29 [900/1366 (65.217391%)]\tLoss: 0.000001\n",
      "Train Epoch: 29 [1200/1366 (86.956522%)]\tLoss: 0.000422\n",
      "\n",
      "Train set: Average loss: 0.0001, Accuracy: 1366/1366 (100%)\n",
      "\n",
      "Val set: Average loss: 0.3270, Accuracy: 433/455 (95%)\n",
      "\n",
      "Train Epoch: 30 [0/1366 (0.000000%)]\tLoss: 0.000005\n",
      "Train Epoch: 30 [300/1366 (21.739130%)]\tLoss: 0.000001\n",
      "Train Epoch: 30 [600/1366 (43.478261%)]\tLoss: 0.000007\n",
      "Train Epoch: 30 [900/1366 (65.217391%)]\tLoss: 0.000240\n",
      "Train Epoch: 30 [1200/1366 (86.956522%)]\tLoss: 0.000034\n",
      "\n",
      "Train set: Average loss: 0.0001, Accuracy: 1366/1366 (100%)\n",
      "\n",
      "Val set: Average loss: 0.3347, Accuracy: 432/455 (95%)\n",
      "\n"
     ]
    }
   ],
   "source": [
    "# train the model\n",
    "epochs =30\n",
    "train_losses = []\n",
    "train_acc = []\n",
    "val_losses = []\n",
    "val_acc = []\n",
    "best_model_wts = copy.deepcopy(model.state_dict())\n",
    "best_loss = 100000\n",
    "for epoch in range(1, epochs+1):\n",
    "    train_loss,train_accuracy= train(model, device, train_loader, optimizer, epoch)\n",
    "    train_losses.append(train_loss)\n",
    "    train_acc.append(train_accuracy)\n",
    "\n",
    "\n",
    "    val_loss, val_accuracy =val(model, device, val_loader)\n",
    "    val_losses.append(val_loss)\n",
    "    val_acc.append(val_accuracy)\n",
    "    if val_loss < best_loss:\n",
    "        best_model_wts = copy.deepcopy(model.state_dict())\n"
   ]
  },
  {
   "cell_type": "code",
   "execution_count": 14,
   "metadata": {
    "colab": {
     "base_uri": "https://localhost:8080/",
     "height": 282
    },
    "id": "_4Nw08AIDCKZ",
    "outputId": "65f09beb-1c40-46e6-bc77-e2cc52871b03"
   },
   "outputs": [
    {
     "data": {
      "text/plain": [
       "Text(0.5, 0, 'Epochs')"
      ]
     },
     "execution_count": 14,
     "metadata": {},
     "output_type": "execute_result"
    },
    {
     "data": {
      "image/png": "[encoded data removed]",
      "text/plain": [
       "<Figure size 432x288 with 1 Axes>"
      ]
     },
     "metadata": {
      "needs_background": "light"
     },
     "output_type": "display_data"
    }
   ],
   "source": [
    "# plot train loss\n",
    "plt.plot(train_losses,label = 'Train loss')\n",
    "plt.plot(val_losses,label = 'Validation loss')\n",
    "plt.title('Loss curve')\n",
    "plt.xticks([1,5,10,15,20])\n",
    "plt.legend()\n",
    "plt.ylabel('Loss')\n",
    "plt.xlabel('Epochs')\n"
   ]
  },
  {
   "cell_type": "code",
   "execution_count": 15,
   "metadata": {
    "colab": {
     "base_uri": "https://localhost:8080/",
     "height": 265
    },
    "id": "EOdfU3OYMhcA",
    "outputId": "4c1f94a4-a7e3-4e81-bf79-96ccf42b863c"
   },
   "outputs": [
    {
     "data": {
      "text/plain": [
       "Text(0.5, 0, 'Epochs')"
      ]
     },
     "execution_count": 15,
     "metadata": {},
     "output_type": "execute_result"
    },
    {
     "data": {
      "image/png": "[encoded data removed]",
      "text/plain": [
       "<Figure size 432x288 with 1 Axes>"
      ]
     },
     "metadata": {
      "needs_background": "light"
     },
     "output_type": "display_data"
    }
   ],
   "source": [
    "# plot validation loss\n",
    "plt.plot(train_acc,label = 'Train Accuracy')\n",
    "plt.plot(val_acc, label = 'Validation Accuracy')\n",
    "plt.legend(loc = 'lower right')\n",
    "plt.title('Accuracy')\n",
    "plt.xticks([1,5,10,15,20])\n",
    "plt.ylabel('Accuracy')\n",
    "plt.xlabel('Epochs')"
   ]
  },
  {
   "cell_type": "code",
   "execution_count": 16,
   "metadata": {},
   "outputs": [
    {
     "data": {
      "text/plain": [
       "<All keys matched successfully>"
      ]
     },
     "execution_count": 16,
     "metadata": {},
     "output_type": "execute_result"
    }
   ],
   "source": [
    "#load the best model\n",
    "model.load_state_dict(best_model_wts)"
   ]
  },
  {
   "cell_type": "code",
   "execution_count": 17,
   "metadata": {},
   "outputs": [
    {
     "name": "stdout",
     "output_type": "stream",
     "text": [
      "Val set: Average loss: 0.2396, Accuracy: 438/456 (96%)\n",
      "\n"
     ]
    },
    {
     "data": {
      "text/plain": [
       "(0.2395993054950084, 96.05263157894737)"
      ]
     },
     "execution_count": 17,
     "metadata": {},
     "output_type": "execute_result"
    }
   ],
   "source": [
    "#test on the test set\n",
    "val(model, device, test_loader)"
   ]
  },
  {
   "cell_type": "code",
   "execution_count": 18,
   "metadata": {
    "colab": {
     "base_uri": "https://localhost:8080/",
     "height": 380
    },
    "id": "cC888IF0t0A-",
    "outputId": "6f9d8057-4abd-4202-d197-76a0e7da163d"
   },
   "outputs": [
    {
     "name": "stdout",
     "output_type": "stream",
     "text": [
      "Normalized confusion matrix\n",
      "[[0.96551724 0.         0.03448276]\n",
      " [0.00274725 0.98076923 0.01648352]\n",
      " [0.05882353 0.20588235 0.73529412]]\n"
     ]
    },
    {
     "data": {
      "image/png": "[encoded data removed]",
      "text/plain": [
       "<Figure size 432x288 with 2 Axes>"
      ]
     },
     "metadata": {
      "needs_background": "light"
     },
     "output_type": "display_data"
    }
   ],
   "source": [
    "# plot the confusion matrix\n",
    "preds,targets = get_all_preds(model, test_loader,device)\n",
    "cm = confusion_matrix(targets,preds.argmax(dim = 1))\n",
    "plot_confusion_matrix(cm,['unmasked','masked','incorrectly_masked'],normalize = True,)"
   ]
  },
  {
   "cell_type": "code",
   "execution_count": 19,
   "metadata": {
    "colab": {
     "base_uri": "https://localhost:8080/",
     "height": 17
    },
    "id": "fboS7PEu2O2P",
    "outputId": "3b41a456-0240-437f-84e3-48cbd9e22a3a"
   },
   "outputs": [],
   "source": [
    "torch.save(model, 'vgg.pth')\n"
   ]
  },
  {
   "cell_type": "code",
   "execution_count": null,
   "metadata": {
    "collapsed": true,
    "id": "SfsGyyz7lKut"
   },
   "outputs": [],
   "source": []
  }
 ],
 "metadata": {
  "accelerator": "GPU",
  "colab": {
   "collapsed_sections": [],
   "name": "Copy of test_classification.ipynb",
   "provenance": []
  },
  "kernelspec": {
   "display_name": "Python 3",
   "language": "python",
   "name": "python3"
  },
  "language_info": {
   "codemirror_mode": {
    "name": "ipython",
    "version": 3
   },
   "file_extension": ".py",
   "mimetype": "text/x-python",
   "name": "python",
   "nbconvert_exporter": "python",
   "pygments_lexer": "ipython3",
   "version": "3.8.3"
  }
 },
 "nbformat": 4,
 "nbformat_minor": 1
}
