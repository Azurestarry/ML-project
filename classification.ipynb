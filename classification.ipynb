{
  "nbformat": 4,
  "nbformat_minor": 0,
  "metadata": {
    "colab": {
      "name": "Copy of test_classification.ipynb",
      "provenance": [],
      "collapsed_sections": [],
      "include_colab_link": true
    },
    "kernelspec": {
      "name": "python3",
      "display_name": "Python 3"
    },
    "accelerator": "GPU"
  },
  "cells": [
    {
      "cell_type": "markdown",
      "metadata": {
        "id": "view-in-github",
        "colab_type": "text"
      },
      "source": [
        "<a href=\"https://colab.research.google.com/github/Kaiwen-d/ML-project/blob/main/classification.ipynb\" target=\"_parent\"><img src=\"https://colab.research.google.com/assets/colab-badge.svg\" alt=\"Open In Colab\"/></a>"
      ]
    },
    {
      "cell_type": "code",
      "metadata": {
        "colab": {
          "base_uri": "https://localhost:8080/"
        },
        "id": "gl04Mwn67CBm",
        "outputId": "7bf3619e-59f8-4c7a-b5f0-aa463986d81b"
      },
      "source": [
        "from google.colab import drive\n",
        "\n",
        "drive.mount(\"/content/drive\", force_remount=True)"
      ],
      "execution_count": 1,
      "outputs": [
        {
          "output_type": "stream",
          "text": [
            "Mounted at /content/drive\n"
          ],
          "name": "stdout"
        }
      ]
    },
    {
      "cell_type": "code",
      "metadata": {
        "colab": {
          "base_uri": "https://localhost:8080/"
        },
        "id": "WhLDEnGw6xEg",
        "outputId": "0a4023f2-c3df-45d1-bb68-91f8f9573657"
      },
      "source": [
        "from os import chdir, listdir\n",
        "\n",
        "print(listdir('./'))\n",
        "\n",
        "chdir('/content/drive/MyDrive')\n",
        "\n",
        "print(listdir('./'))"
      ],
      "execution_count": 2,
      "outputs": [
        {
          "output_type": "stream",
          "text": [
            "['.config', 'drive', 'sample_data']\n",
            "['1-1-Intro.mp4', 'obj_dict_1126.dat', 'obj_dict.dat', '1_Latif_UnseenSweetness.pdf', '3_Fan_LessonsAboutChinaandRace.pdf', '2_Ye_La double vie de Veronica.pdf', '4_Sedaris_JesusShaves.pdf', 'Getting started.pdf', 'HealthHistory_在线健康问卷填写说明.pdf', 'book (3).gdoc', 'book (2).gdoc', 'book (1).gdoc', 'fantastic questions', 'Sample - Superstore.gsheet', 'SQL.gdoc', 'trend project', 'Copy of AnswerSheetSQL (1).gdoc', 'Copy of AnswerSheetSQL zhienli.gdoc', 'Copy of AnswerSheetSQL.gdoc', 'functionality.mp4', 'notes simplified.gdoc', 'Untitled presentation.gslides', 'book.gdoc', 'MO', 'Copy of Four Year Plan Visual.gdoc', 'Airline Reservations with Overbooking.xlsx', 'Untitled Diagram (1).drawio', 'Untitled Diagram.pdf', 'Untitled Diagram.gdoc', 'HW2.drawio', 'Database HW1.drawio', 'Project Part1.drawio', 'Homework 3.gdoc', 'project part2.drawio', 'database HW4.gdoc', 'Screen Shot 2020-03-31 at 06.50.51 (1).png', 'Screen Shot 2020-03-31 at 06.50.38 (1).png', 'HW5 kd.docx', 'Copy of Business & Finance.gdoc', 'Copy of Data Science.gdoc', 'HW6.drawio', 'HW6 kd.gdoc', 'Screen Shot 2020-03-31 at 06.50.38.png', 'IMG_3793.PNG', 'Screen Shot 2020-03-31 at 06.50.51.png', 'Database HW7.gdoc', 'DB project part4.gdoc', 'BILIBILI.gdoc', 'Database HW8.gdoc', 'Untitled Diagram.drawio', 'first-order-motion-model', 'Registration Confirmation.pdf', 'Colab Notebooks', 'Ingredient project-Intro.mov', 'ML_progress_report.mp4', 'Ingredient Project.gslides', 'Ingredient project Group6.gdoc', 'urban', 'cropped_dataset.zip', 'cropped_dataset', '申请要求汇总表.xls', '申请要求汇总表.gsheet', '哥大 PS (1).docx', '哥大 PS.docx', 'UR Essay 1.docx', 'machine learning experience.gdoc', '哥大 PS.gdoc', 'UC Berkeley Sample PS.pdf', 'UC Berkeley Sample PS.gdoc', 'obj_dict_1123.dat', 'kd_test', 'checkpoint.pth']\n"
          ],
          "name": "stdout"
        }
      ]
    },
    {
      "cell_type": "code",
      "metadata": {
        "id": "zF6jwTfc1hv9",
        "colab": {
          "base_uri": "https://localhost:8080/"
        },
        "outputId": "65c3ea23-ac18-42a2-c293-73ae29c922f3"
      },
      "source": [
        "import pickle\n",
        "import matplotlib.pyplot as plt\n",
        "\n",
        "data_dict = pickle.load(open('/content/drive/MyDrive/obj_dict.dat', 'rb'))\n",
        "\n",
        "dataset = data_dict['added_filter_20_dataset_chw']\n",
        "\n",
        "print(dataset.keys())\n",
        "print(type(dataset['data']), dataset['data'][0].keys())\n",
        "print(type(dataset['label_idx']), dataset['label_idx'])"
      ],
      "execution_count": 3,
      "outputs": [
        {
          "output_type": "stream",
          "text": [
            "dict_keys(['data', 'label_idx'])\n",
            "<class 'list'> dict_keys(['face', 'label'])\n",
            "<class 'dict'> {'with_mask': [1, 3, 4, 5, 6, 7, 8, 9, 11, 12, 13, 15, 16, 17, 18, 19, 20, 21, 22, 23, 26, 27, 28, 29, 30, 31, 34, 36, 37, 38, 39, 40, 41, 42, 43, 45, 47, 48, 49, 50, 51, 52, 53, 55, 56, 57, 58, 59, 60, 61, 63, 64, 66, 67, 68, 69, 70, 71, 74, 76, 77, 78, 80, 81, 82, 83, 84, 85, 86, 87, 88, 89, 90, 91, 92, 93, 95, 96, 97, 98, 99, 101, 102, 103, 104, 105, 106, 107, 108, 109, 110, 111, 112, 113, 114, 115, 116, 117, 118, 121, 123, 124, 125, 126, 128, 129, 133, 134, 136, 137, 138, 143, 144, 145, 146, 147, 148, 149, 150, 151, 152, 153, 154, 155, 156, 157, 158, 159, 160, 162, 163, 164, 165, 166, 167, 168, 169, 170, 171, 173, 175, 179, 180, 182, 183, 184, 185, 187, 188, 189, 190, 191, 192, 193, 194, 195, 196, 197, 198, 199, 200, 201, 202, 203, 204, 205, 206, 207, 208, 209, 210, 211, 212, 213, 215, 216, 217, 218, 219, 220, 223, 224, 225, 226, 227, 228, 229, 230, 231, 232, 233, 234, 235, 236, 237, 238, 239, 240, 241, 242, 243, 244, 245, 247, 248, 249, 250, 251, 252, 253, 254, 258, 261, 262, 263, 264, 265, 266, 268, 269, 270, 271, 272, 273, 274, 275, 278, 279, 281, 282, 283, 284, 285, 286, 287, 288, 289, 290, 291, 292, 293, 294, 297, 298, 302, 307, 308, 313, 315, 316, 319, 320, 321, 322, 323, 326, 327, 328, 329, 330, 331, 332, 333, 334, 335, 336, 337, 338, 339, 340, 341, 342, 345, 352, 353, 354, 355, 356, 357, 360, 361, 362, 364, 368, 369, 371, 376, 377, 379, 380, 381, 384, 385, 386, 387, 389, 390, 392, 393, 394, 395, 396, 397, 398, 399, 400, 401, 402, 403, 404, 405, 406, 407, 408, 409, 410, 414, 415, 416, 417, 420, 422, 423, 424, 425, 426, 427, 428, 429, 430, 431, 432, 433, 434, 437, 438, 439, 440, 444, 446, 447, 448, 449, 450, 451, 452, 453, 454, 455, 456, 457, 459, 460, 461, 462, 465, 466, 467, 468, 469, 470, 471, 472, 473, 474, 475, 476, 478, 479, 480, 482, 484, 485, 486, 487, 488, 489, 490, 491, 492, 493, 494, 495, 499, 500, 501, 504, 506, 507, 508, 511, 512, 513, 514, 515, 516, 517, 518, 519, 520, 521, 522, 523, 524, 525, 526, 528, 529, 530, 531, 532, 533, 534, 535, 536, 537, 538, 539, 540, 541, 542, 543, 544, 545, 546, 547, 548, 549, 550, 551, 552, 553, 554, 555, 556, 557, 558, 559, 560, 561, 562, 563, 564, 565, 566, 567, 568, 569, 570, 576, 580, 584, 585, 586, 587, 588, 589, 590, 591, 592, 593, 594, 595, 596, 600, 601, 602, 603, 604, 605, 606, 607, 608, 609, 610, 611, 612, 613, 614, 615, 616, 617, 618, 619, 620, 621, 622, 623, 624, 625, 626, 627, 628, 629, 630, 631, 632, 633, 634, 635, 636, 637, 638, 639, 640, 641, 642, 643, 644, 645, 646, 647, 648, 649, 651, 653, 654, 655, 657, 658, 659, 660, 661, 662, 663, 664, 665, 666, 667, 668, 669, 670, 671, 672, 673, 674, 675, 677, 680, 684, 685, 686, 687, 688, 689, 690, 691, 692, 693, 694, 695, 696, 697, 698, 699, 700, 701, 702, 703, 704, 705, 706, 707, 710, 711, 712, 714, 715, 716, 717, 718, 719, 720, 721, 722, 723, 724, 725, 726, 727, 729, 730, 732, 733, 734, 735, 736, 737, 738, 739, 740, 741, 742, 743, 744, 745, 749, 751, 752, 753, 754, 755, 756, 757, 758, 759, 760, 761, 762, 763, 764, 765, 766, 767, 768, 769, 771, 772, 773, 774, 775, 776, 778, 780, 781, 782, 785, 786, 787, 788, 789, 791, 792, 793, 794, 795, 796, 797, 799, 800, 801, 802, 803, 804, 805, 806, 807, 808, 810, 811, 812, 813, 814, 815, 816, 817, 818, 819, 820, 821, 822, 823, 824, 825, 828, 831, 832, 833, 835, 836, 837, 838, 839, 840, 841, 842, 845, 846, 847, 848, 849, 850, 851, 852, 854, 855, 856, 857, 858, 859, 860, 861, 862, 863, 864, 865, 866, 868, 869, 870, 872, 873, 874, 875, 876, 877, 878, 879, 880, 881, 882, 883, 884, 885, 886, 887, 888, 889, 890, 892, 893, 894, 895, 897, 898, 900, 902, 903, 904, 905, 906, 907, 908, 909, 913, 917, 918, 919, 920, 921, 922, 923, 924, 925, 926, 927, 928, 929, 930, 931, 932, 933, 934, 935, 936, 937, 938, 939, 940, 941, 942, 943, 945, 946, 947, 948, 949, 950, 951, 952, 953, 955, 956, 957, 959, 960, 961, 962, 963, 965, 966, 967, 969, 970, 971, 972, 974, 976, 977, 979, 980, 981, 982, 984, 985, 986, 987, 988, 989, 990, 991, 992, 993, 994, 995, 996, 997, 998, 999, 1001, 1003, 1004, 1005, 1006, 1007, 1008, 1009, 1010, 1011, 1012, 1013, 1014, 1015, 1016, 1017, 1018, 1019, 1020, 1021, 1024, 1025, 1026, 1027, 1028, 1029, 1030, 1031, 1032, 1035, 1036, 1037, 1038, 1039, 1040, 1041, 1043, 1044, 1045, 1046, 1047, 1048, 1050, 1051, 1052, 1053, 1054, 1055, 1056, 1058, 1059, 1060, 1062, 1064, 1066, 1069, 1070, 1071, 1072, 1073, 1074, 1075, 1076, 1077, 1080, 1081, 1082, 1083, 1084, 1085, 1086, 1087, 1088, 1089, 1090, 1091, 1092, 1093, 1094, 1095, 1096, 1098, 1099, 1100, 1101, 1102, 1103, 1104, 1105, 1106, 1107, 1108, 1110, 1111, 1112, 1115, 1116, 1118, 1120, 1122, 1123, 1124, 1126, 1127, 1128, 1129, 1131, 1132, 1133, 1134, 1135, 1136, 1137, 1139, 1140, 1141, 1142, 1143, 1144, 1145, 1146, 1147, 1148, 1149, 1150, 1151, 1152, 1153, 1154, 1155, 1157, 1158, 1159, 1160, 1161, 1162, 1163, 1164, 1165, 1166, 1167, 1168, 1169, 1170, 1171, 1172, 1173, 1174, 1175, 1176, 1177, 1179, 1180, 1181, 1182, 1183, 1184, 1185, 1186, 1187, 1188, 1189, 1190, 1191, 1192, 1193, 1194, 1195, 1196, 1197, 1198, 1199, 1200, 1201, 1202, 1203, 1204, 1205, 1206, 1209, 1210, 1211, 1212, 1213, 1215, 1216, 1217, 1218, 1220, 1221, 1222, 1223, 1224, 1225, 1226, 1227, 1228, 1229, 1230, 1231, 1232, 1233, 1234, 1235, 1237, 1238, 1239, 1240, 1241, 1242, 1243, 1244, 1247, 1248, 1249, 1251, 1252, 1253, 1254, 1257, 1258, 1259, 1261, 1262, 1263, 1264, 1265, 1266, 1267, 1268, 1269, 1270, 1271, 1272, 1273, 1274, 1275, 1276, 1277, 1278, 1279, 1280, 1281, 1282, 1283, 1284, 1285, 1286, 1287, 1288, 1289, 1290, 1291, 1292, 1293, 1294, 1295, 1297, 1298, 1300, 1301, 1302, 1303, 1304, 1305, 1306, 1307, 1308, 1309, 1310, 1312, 1313, 1314, 1315, 1316, 1317, 1321, 1322, 1323, 1324, 1325, 1326, 1327, 1328, 1330, 1331, 1332, 1334, 1335, 1337, 1338, 1339, 1340, 1341, 1342, 1343, 1344, 1345, 1346, 1347, 1350, 1352, 1355, 1356, 1357, 1359, 1360, 1361, 1362, 1363, 1364, 1366, 1368, 1369, 1370, 1371, 1372, 1373, 1374, 1375, 1376, 1377, 1378, 1379, 1380, 1381, 1382, 1383, 1384, 1385, 1386, 1387, 1388, 1389, 1390, 1391, 1392, 1393, 1394, 1395, 1396, 1397, 1398, 1399, 1400, 1401, 1406, 1407, 1408, 1409, 1410, 1411, 1412, 1413, 1414, 1415, 1416, 1417, 1418, 1419, 1420, 1423, 1424, 1428, 1431, 1432, 1433, 1434, 1436, 1437, 1438, 1439, 1440, 1441, 1443, 1444, 1446, 1447, 1449, 1453, 1454, 1455, 1456, 1457, 1458, 1459, 1460, 1461, 1462, 1463, 1464, 1465, 1466, 1467, 1468, 1469, 1470, 1471, 1472, 1473, 1474, 1475, 1476, 1477, 1478, 1479, 1481, 1482, 1483, 1484, 1485, 1486, 1487, 1488, 1489, 1490, 1491, 1492, 1495, 1496, 1498, 1500, 1501, 1502, 1503, 1504, 1506, 1507, 1508, 1509, 1510, 1513, 1514, 1515, 1516, 1519, 1520, 1521, 1522, 1523, 1524, 1525, 1526, 1527, 1528, 1529, 1530, 1531, 1532, 1533, 1534, 1535, 1537, 1538, 1539, 1540, 1541, 1542, 1543, 1544, 1545, 1546, 1547, 1548, 1549, 1550, 1551, 1552, 1553, 1554, 1555, 1559, 1560, 1562, 1564, 1565, 1566, 1567, 1568, 1569, 1570, 1571, 1572, 1573, 1574, 1575, 1576, 1577, 1578, 1579, 1580, 1581, 1582, 1583, 1584, 1585, 1586, 1587, 1588, 1589, 1590, 1591, 1592, 1593, 1594, 1595, 1596, 1597, 1598, 1599, 1600, 1602, 1603, 1604, 1605, 1606, 1607, 1609, 1610, 1611, 1613, 1614, 1615, 1616, 1617, 1620, 1621, 1622, 1623, 1624, 1625, 1626, 1627, 1630, 1631, 1632, 1633, 1634, 1635, 1636, 1637, 1638, 1640, 1641, 1643, 1645, 1649, 1650, 1651, 1652, 1653, 1654, 1655, 1656, 1658, 1659, 1660, 1661, 1662, 1663, 1664, 1665, 1666, 1667, 1668, 1669, 1670, 1671, 1672, 1673, 1674, 1679, 1680, 1681, 1682, 1683, 1684, 1687, 1688, 1689, 1690, 1691, 1693, 1694, 1695, 1696, 1697, 1698, 1699, 1700, 1701, 1702, 1703, 1705, 1706, 1707, 1708, 1712, 1713, 1714, 1715, 1716, 1717, 1718, 1719, 1720, 1721, 1722, 1723, 1724, 1725, 1726, 1727, 1728, 1729, 1730, 1731, 1732, 1733, 1734, 1735, 1736, 1737, 1738, 1739, 1744, 1745, 1747, 1748, 1749, 1750, 1751, 1752, 1753, 1754, 1755, 1756, 1757, 1758, 1759, 1760, 1761, 1762, 1763, 1765, 1766, 1767, 1768, 1769, 1770, 1771, 1772, 1773, 1774, 1775, 1776, 1777, 1778, 1779, 1780, 1781, 1782, 1783, 1785, 1786, 1789, 1790, 1791, 1792, 1793, 1794, 1795, 1796, 1797, 1798, 1799, 1806, 1811, 1812, 1814, 1815, 1816, 1817, 1819, 1820, 1821, 1822, 1823, 1825, 1828, 1829, 1831, 1832, 1833, 1834, 1835, 1836, 1837, 1838, 1839, 1840, 1841, 1842, 1843, 1844, 1845, 1846, 1847, 1848, 1849, 1850, 1851, 1852, 1853, 1854, 1855, 1856, 1857, 1858, 1859, 1860, 1861, 1862, 1863, 1864, 1865, 1866, 1868, 1869, 1870, 1871, 1872, 1873, 1874, 1875, 1876, 1880, 1881, 1882, 1883, 1884, 1885, 1886, 1887, 1888, 1889, 1890, 1891, 1892, 1893, 1894, 1895, 1896, 1897, 1898, 1900, 1901, 1902, 1903, 1904, 1906, 1907, 1908, 1909, 1910, 1911, 1912, 1913, 1914, 1915, 1916, 1917, 1919, 1920, 1922, 1923, 1924, 1925, 1926, 1927, 1928, 1930, 1931, 1932, 1933, 1934, 1935, 1937, 1938, 1939, 1941, 1942, 1943, 1944, 1945, 1946, 1947, 1948, 1951, 1952, 1953, 1954, 1955, 1963, 1965, 1966, 1967, 1968, 1969, 1970, 1971, 1972, 1973, 1974, 1975, 1976, 1977, 1978, 1981, 1982, 1983, 1985, 1986, 1987, 1988, 1989, 1990, 1991, 1992, 1993, 1994, 1995, 1996, 1998, 1999, 2000, 2001, 2002, 2003, 2004, 2005, 2006, 2007, 2008, 2009, 2010, 2011, 2012, 2014, 2015, 2016, 2018, 2019, 2020, 2021, 2022, 2023, 2024, 2025, 2027, 2028, 2029, 2032, 2033, 2034, 2036, 2037, 2038, 2039, 2040, 2041, 2042, 2043, 2044, 2045, 2046, 2052, 2053, 2054, 2056, 2057, 2058, 2060, 2062, 2063, 2064, 2065, 2066, 2067, 2068, 2069, 2070, 2071, 2072, 2073, 2074, 2075, 2076, 2077, 2078, 2079, 2081, 2082, 2083, 2084, 2085, 2086, 2087, 2088, 2089, 2090, 2091, 2092, 2093, 2094, 2095, 2096, 2097, 2098, 2099, 2100, 2101, 2102, 2103, 2104, 2105, 2106, 2107, 2108, 2110, 2111, 2112, 2113, 2114, 2115, 2116, 2117, 2118, 2120, 2121, 2122, 2123, 2124, 2127, 2128, 2129, 2131, 2132, 2133, 2136, 2137, 2138, 2139, 2140, 2141, 2142, 2143, 2144, 2145, 2146, 2147, 2149, 2151, 2152, 2153, 2154, 2156, 2157, 2158, 2159, 2160, 2162, 2163, 2164, 2167, 2168, 2169, 2170, 2171, 2172, 2173, 2174, 2175, 2176, 2179, 2180, 2181, 2182, 2183, 2184, 2185, 2186, 2187, 2188, 2189, 2190, 2191, 2192, 2193, 2194, 2195, 2196], 'without_mask': [0, 2, 10, 24, 25, 33, 46, 54, 62, 75, 79, 94, 100, 119, 120, 122, 127, 130, 131, 132, 135, 139, 141, 142, 161, 172, 174, 176, 177, 178, 181, 186, 214, 221, 222, 246, 256, 257, 259, 260, 276, 277, 280, 295, 296, 299, 300, 301, 303, 304, 305, 306, 309, 310, 311, 312, 314, 317, 318, 325, 343, 344, 346, 347, 348, 349, 350, 351, 358, 359, 363, 367, 370, 372, 373, 374, 378, 382, 383, 388, 413, 418, 419, 421, 435, 436, 443, 445, 458, 463, 464, 477, 481, 497, 498, 502, 503, 505, 509, 510, 527, 571, 572, 573, 574, 575, 577, 578, 579, 581, 582, 583, 597, 598, 599, 650, 652, 656, 676, 678, 679, 681, 709, 713, 728, 746, 747, 748, 750, 770, 777, 784, 790, 809, 826, 827, 829, 830, 834, 843, 844, 853, 891, 896, 899, 901, 910, 911, 912, 914, 915, 916, 944, 954, 958, 964, 968, 973, 975, 978, 983, 1000, 1002, 1022, 1033, 1034, 1042, 1049, 1063, 1065, 1068, 1078, 1079, 1097, 1109, 1113, 1114, 1117, 1119, 1125, 1130, 1138, 1156, 1207, 1208, 1236, 1246, 1250, 1255, 1256, 1296, 1299, 1311, 1318, 1319, 1320, 1329, 1336, 1349, 1351, 1353, 1358, 1365, 1367, 1402, 1403, 1404, 1405, 1422, 1425, 1426, 1427, 1429, 1430, 1435, 1442, 1445, 1448, 1452, 1480, 1493, 1497, 1499, 1505, 1511, 1512, 1517, 1518, 1536, 1556, 1557, 1558, 1561, 1563, 1601, 1608, 1612, 1618, 1619, 1629, 1639, 1642, 1644, 1676, 1677, 1678, 1686, 1692, 1704, 1711, 1741, 1742, 1743, 1764, 1787, 1788, 1802, 1803, 1804, 1805, 1807, 1808, 1809, 1810, 1813, 1824, 1826, 1827, 1830, 1867, 1877, 1879, 1899, 1905, 1918, 1940, 1950, 1956, 1957, 1959, 1961, 1962, 1979, 1980, 1984, 1997, 2017, 2026, 2031, 2035, 2047, 2048, 2049, 2050, 2051, 2055, 2059, 2080, 2109, 2125, 2126, 2130, 2134, 2161, 2165, 2166, 2178, 2197], 'mask_weared_incorrect': [14, 32, 35, 44, 65, 72, 73, 140, 255, 267, 324, 365, 366, 375, 391, 411, 412, 441, 442, 483, 496, 682, 683, 708, 731, 779, 783, 798, 867, 871, 1023, 1057, 1061, 1067, 1121, 1178, 1214, 1219, 1245, 1260, 1333, 1348, 1354, 1421, 1450, 1451, 1494, 1628, 1646, 1647, 1648, 1657, 1675, 1685, 1709, 1710, 1740, 1746, 1784, 1800, 1801, 1818, 1878, 1921, 1929, 1936, 1949, 1958, 1960, 1964, 2013, 2030, 2061, 2119, 2135, 2148, 2150, 2155, 2177, 2198, 2199, 2200, 2201, 2202, 2203, 2204, 2205, 2206, 2207, 2208, 2209, 2210, 2211, 2212, 2213, 2214, 2215, 2216, 2217, 2218, 2219, 2220, 2221, 2222, 2223, 2224, 2225, 2226, 2227, 2228, 2229, 2230, 2231, 2232, 2233, 2234, 2235, 2236, 2237, 2238, 2239, 2240, 2241, 2242, 2243, 2244, 2245, 2246, 2247, 2248, 2249, 2250, 2251, 2252, 2253, 2254, 2255, 2256, 2257, 2258, 2259, 2260, 2261, 2262, 2263, 2264, 2265, 2266, 2267, 2268, 2269, 2270, 2271, 2272, 2273, 2274, 2275, 2276]}\n"
          ],
          "name": "stdout"
        }
      ]
    },
    {
      "cell_type": "code",
      "metadata": {
        "id": "CV2tdNHAB3Tg",
        "colab": {
          "base_uri": "https://localhost:8080/",
          "height": 188
        },
        "outputId": "43b2f640-2d44-4e03-a6cc-42e7c7089580"
      },
      "source": [
        "\n",
        "dataset = dataset['data']\n"
      ],
      "execution_count": 6,
      "outputs": [
        {
          "output_type": "error",
          "ename": "TypeError",
          "evalue": "ignored",
          "traceback": [
            "\u001b[0;31m---------------------------------------------------------------------------\u001b[0m",
            "\u001b[0;31mTypeError\u001b[0m                                 Traceback (most recent call last)",
            "\u001b[0;32m<ipython-input-6-c5f5effd6310>\u001b[0m in \u001b[0;36m<module>\u001b[0;34m()\u001b[0m\n\u001b[1;32m      1\u001b[0m \u001b[0;34m\u001b[0m\u001b[0m\n\u001b[0;32m----> 2\u001b[0;31m \u001b[0mdataset\u001b[0m \u001b[0;34m=\u001b[0m \u001b[0mdataset\u001b[0m\u001b[0;34m[\u001b[0m\u001b[0;34m'data'\u001b[0m\u001b[0;34m]\u001b[0m\u001b[0;34m\u001b[0m\u001b[0;34m\u001b[0m\u001b[0m\n\u001b[0m",
            "\u001b[0;31mTypeError\u001b[0m: list indices must be integers or slices, not str"
          ]
        }
      ]
    },
    {
      "cell_type": "code",
      "metadata": {
        "colab": {
          "base_uri": "https://localhost:8080/",
          "height": 268
        },
        "id": "KsDqxQ2_tfT8",
        "outputId": "ce42b5e2-a875-4015-d361-4e7bbfd0a356"
      },
      "source": [
        "plt.imshow(np.transpose(dataset[20]['face'],(1,2,0)));"
      ],
      "execution_count": 8,
      "outputs": [
        {
          "output_type": "display_data",
          "data": {
            "image/png": "[encoded data removed]",
            "text/plain": [
              "<Figure size 432x288 with 1 Axes>"
            ]
          },
          "metadata": {
            "tags": [],
            "needs_background": "light"
          }
        }
      ]
    },
    {
      "cell_type": "code",
      "metadata": {
        "id": "KbVtmBEmB5ci"
      },
      "source": [
        "import torch\n",
        "import torch.autograd as autograd\n",
        "import torch.nn as nn\n",
        "import torch.nn.functional as F\n",
        "import torch.optim as optim \n",
        "import numpy as np\n",
        "from torch.utils.data import Dataset\n",
        "import torchvision.models as models\n",
        "from torchvision import transforms as T\n",
        "\n",
        "\n",
        "class MyDataset(Dataset):\n",
        "    def __init__(self, dataset,transform):\n",
        "        self.dataset = dataset\n",
        "        self.transform = transform\n",
        "        self.label_dict = {'without_mask':0,'with_mask':1,'mask_weared_incorrect':2}\n",
        "    \n",
        "    def __getitem__(self, index):\n",
        "        img = self.dataset[index]['face']\n",
        "        label = self.label_dict[self.dataset[index]['label']]\n",
        "        img = torch.as_tensor(img, dtype=torch.float32)\n",
        "        img = img/255\n",
        "        label = torch.tensor(label)\n",
        "        if self.transform:\n",
        "          img = self.transform(img)\n",
        "\n",
        "        return img, label\n",
        "    \n",
        "    def __len__(self):\n",
        "        return len(self.dataset)"
      ],
      "execution_count": 7,
      "outputs": []
    },
    {
      "cell_type": "code",
      "metadata": {
        "id": "yDhuHAMASQom"
      },
      "source": [
        "face_dataset = MyDataset(dataset,transform = None)\n",
        "dataset_size = len(dataset)\n",
        "train_size = int(dataset_size * 0.6)\n",
        "val_size = int(dataset_size * 0.2)\n",
        "test_size = dataset_size - train_size - val_size\n",
        "\n",
        "train_dataset, val_dataset, test_dataset = torch.utils.data.random_split(face_dataset, [train_size, val_size, test_size])"
      ],
      "execution_count": 9,
      "outputs": []
    },
    {
      "cell_type": "code",
      "metadata": {
        "id": "4Zy_xLEBeUXP"
      },
      "source": [
        "BATCH_SIZE = 16\n",
        "\n",
        "train_loader = torch.utils.data.DataLoader(train_dataset,\n",
        "                                          batch_size=BATCH_SIZE,\n",
        "                                          shuffle=True)\n",
        "\n",
        "val_loader = torch.utils.data.DataLoader(val_dataset,\n",
        "                                          batch_size=BATCH_SIZE,\n",
        "                                          shuffle=True)\n",
        "\n",
        "test_loader = torch.utils.data.DataLoader(test_dataset,\n",
        "                                          batch_size=BATCH_SIZE,\n",
        "                                          shuffle=True)"
      ],
      "execution_count": 10,
      "outputs": []
    },
    {
      "cell_type": "code",
      "metadata": {
        "id": "zOLjEzL1eWsV"
      },
      "source": [
        "class Net(nn.Module):\n",
        "    def __init__(self):\n",
        "        super(Net, self).__init__()\n",
        "        self.conv1 = nn.Conv2d(3, 20, 5, 1)    # input 3 channel, because rgb image. 20 filters, 5x5 size\n",
        "        self.conv2 = nn.Conv2d(20, 50, 5, 1)   # input 20 channel, previous layer has 20 filters. 50 filters, 5x5 size\n",
        "        self.fc1 = nn.Linear(13*13*50, 500)      # 13*13*50 --> 500 linear layer\n",
        "        self.fc2 = nn.Linear(500, 3)          # 500 --> 3 linear layer\n",
        "\n",
        "    def forward(self, x):  \n",
        "        x = F.relu(self.conv1(x)) \n",
        "        x = F.max_pool2d(x, 2, 2) \n",
        "        x = F.relu(self.conv2(x)) \n",
        "        x = F.max_pool2d(x, 2, 2) \n",
        "        x = x.view(-1, 13*13*50)   \n",
        "        x = F.relu(self.fc1(x))   \n",
        "        x = self.fc2(x)           \n",
        "        return F.log_softmax(x, dim=1)  "
      ],
      "execution_count": 11,
      "outputs": []
    },
    {
      "cell_type": "code",
      "metadata": {
        "colab": {
          "base_uri": "https://localhost:8080/",
          "height": 188
        },
        "id": "byo1xXnsPhNl",
        "outputId": "cafbc4fd-b69b-4911-f8dd-e717db89f675"
      },
      "source": [
        "\n",
        "device"
      ],
      "execution_count": 12,
      "outputs": [
        {
          "output_type": "error",
          "ename": "NameError",
          "evalue": "ignored",
          "traceback": [
            "\u001b[0;31m---------------------------------------------------------------------------\u001b[0m",
            "\u001b[0;31mNameError\u001b[0m                                 Traceback (most recent call last)",
            "\u001b[0;32m<ipython-input-12-e99fe3161036>\u001b[0m in \u001b[0;36m<module>\u001b[0;34m()\u001b[0m\n\u001b[1;32m      1\u001b[0m \u001b[0;34m\u001b[0m\u001b[0m\n\u001b[0;32m----> 2\u001b[0;31m \u001b[0mdevice\u001b[0m\u001b[0;34m\u001b[0m\u001b[0;34m\u001b[0m\u001b[0m\n\u001b[0m",
            "\u001b[0;31mNameError\u001b[0m: name 'device' is not defined"
          ]
        }
      ]
    },
    {
      "cell_type": "code",
      "metadata": {
        "id": "PXZjsXZtp0Un"
      },
      "source": [
        "\n",
        "\n",
        "\n",
        "def train(model, device, train_loader, optimizer, epoch, log_interval=100):\n",
        "    train_loss = 0\n",
        "    model.train() \n",
        "    for batch_idx, (img, label) in enumerate(train_loader):   \n",
        "        \n",
        "        img, label = img.to(device), label.to(device)     # use gpu if possible\n",
        "        optimizer.zero_grad()                                 # clean gradients\n",
        "        output = model(img)\n",
        "        loss = criterion(output, label)                      # what is loss\n",
        "        train_loss += loss.item()\n",
        "\n",
        "        loss.backward()                                       # calculate loss\n",
        "        optimizer.step()                                      # update weights (update filters in this case)\n",
        "        if batch_idx % log_interval == 0:\n",
        "            print(\"Train Epoch: {} [{}/{} ({:0f}%)]\\tLoss: {:.6f}\".format(\n",
        "                epoch, \n",
        "                batch_idx * len(img), \n",
        "                len(train_loader.dataset), \n",
        "                100. * batch_idx / len(train_loader), \n",
        "                loss.item()\n",
        "            ))\n",
        "    train_loss /=len(train_loader.dataset)\n",
        "    return train_loss\n"
      ],
      "execution_count": 13,
      "outputs": []
    },
    {
      "cell_type": "code",
      "metadata": {
        "id": "pfs3L0FMM5fI"
      },
      "source": [
        "\n",
        "def test(model, device, test_loader):\n",
        "    model.eval()\n",
        "    test_loss = 0\n",
        "    correct = 0\n",
        "    with torch.no_grad():\n",
        "        for img, label in test_loader:\n",
        "            img, label = img.to(device), label.to(device)\n",
        "            output = model(img) \n",
        "            test_loss += F.cross_entropy(output, label, reduction='sum').item()\n",
        "                       \n",
        "            pred = output.argmax(dim=1, keepdim=True) # get the index of the max log-probability\n",
        "            \n",
        "\n",
        "            correct += pred.eq(label.view_as(pred)).sum().item()\n",
        "\n",
        "\n",
        "    test_loss /= len(test_loader.dataset)\n",
        "\n",
        "    print('\\nTest set: Average loss: {:.4f}, Accuracy: {}/{} ({:.0f}%)\\n'.format(\n",
        "        test_loss, correct, len(test_loader.dataset),\n",
        "        100. * correct / len(test_loader.dataset)))\n",
        "    return test_loss"
      ],
      "execution_count": 14,
      "outputs": []
    },
    {
      "cell_type": "code",
      "metadata": {
        "id": "pABjhK0tpmBn"
      },
      "source": [
        "use_cuda = torch.cuda.is_available()  \n",
        "device = torch.device(\"cuda\" if use_cuda else \"cpu\")  \n",
        "\n",
        "lr = 0.01\n",
        "\n",
        "\n",
        "\n",
        "\n",
        "model = models.resnet50(pretrained=True)\n",
        "num_ftrs = model.fc.in_features\n",
        "# Here the size of each output sample is set to 2.\n",
        "# Alternatively, it can be generalized to nn.Linear(num_ftrs, len(class_names)).\n",
        "model.fc = nn.Linear(num_ftrs, 3)\n",
        "\n",
        "# model = Net()\n",
        "# # move model to the right device\n",
        "model.to(device)\n",
        "optimizer = optim.SGD(model.parameters(), lr=lr) \n",
        "criterion = nn.CrossEntropyLoss()"
      ],
      "execution_count": 37,
      "outputs": []
    },
    {
      "cell_type": "code",
      "metadata": {
        "colab": {
          "base_uri": "https://localhost:8080/"
        },
        "id": "ytqtJO9nr1Tx",
        "outputId": "afca4a26-1a92-4a26-c2bb-d12246037417"
      },
      "source": [
        "epochs =20\n",
        "train_losses = []\n",
        "test_losses = []\n",
        "for epoch in range(1, epochs + 1):\n",
        "    train_loss = train(model, device, train_loader, optimizer, epoch)\n",
        "    train_losses.append(train_loss)\n",
        "\n",
        "    test_loss=test(model, device, val_loader)\n",
        "    test_losses.append(test_loss)"
      ],
      "execution_count": 38,
      "outputs": [
        {
          "output_type": "stream",
          "text": [
            "Train Epoch: 1 [0/1366 (0.000000%)]\tLoss: 1.052809\n",
            "\n",
            "Test set: Average loss: 0.2595, Accuracy: 417/455 (92%)\n",
            "\n",
            "Train Epoch: 2 [0/1366 (0.000000%)]\tLoss: 0.131972\n",
            "\n",
            "Test set: Average loss: 0.2107, Accuracy: 430/455 (95%)\n",
            "\n",
            "Train Epoch: 3 [0/1366 (0.000000%)]\tLoss: 0.117777\n",
            "\n",
            "Test set: Average loss: 0.1838, Accuracy: 429/455 (94%)\n",
            "\n",
            "Train Epoch: 4 [0/1366 (0.000000%)]\tLoss: 0.010292\n",
            "\n",
            "Test set: Average loss: 0.1987, Accuracy: 429/455 (94%)\n",
            "\n",
            "Train Epoch: 5 [0/1366 (0.000000%)]\tLoss: 0.016489\n",
            "\n",
            "Test set: Average loss: 0.2502, Accuracy: 423/455 (93%)\n",
            "\n",
            "Train Epoch: 6 [0/1366 (0.000000%)]\tLoss: 0.014674\n",
            "\n",
            "Test set: Average loss: 0.3472, Accuracy: 411/455 (90%)\n",
            "\n",
            "Train Epoch: 7 [0/1366 (0.000000%)]\tLoss: 0.035971\n",
            "\n",
            "Test set: Average loss: 0.3219, Accuracy: 420/455 (92%)\n",
            "\n",
            "Train Epoch: 8 [0/1366 (0.000000%)]\tLoss: 0.038217\n",
            "\n",
            "Test set: Average loss: 0.2223, Accuracy: 426/455 (94%)\n",
            "\n",
            "Train Epoch: 9 [0/1366 (0.000000%)]\tLoss: 0.001483\n",
            "\n",
            "Test set: Average loss: 0.1888, Accuracy: 429/455 (94%)\n",
            "\n",
            "Train Epoch: 10 [0/1366 (0.000000%)]\tLoss: 0.012858\n",
            "\n",
            "Test set: Average loss: 0.2179, Accuracy: 432/455 (95%)\n",
            "\n",
            "Train Epoch: 11 [0/1366 (0.000000%)]\tLoss: 0.002665\n",
            "\n",
            "Test set: Average loss: 0.2652, Accuracy: 428/455 (94%)\n",
            "\n",
            "Train Epoch: 12 [0/1366 (0.000000%)]\tLoss: 0.003929\n",
            "\n",
            "Test set: Average loss: 0.2862, Accuracy: 426/455 (94%)\n",
            "\n",
            "Train Epoch: 13 [0/1366 (0.000000%)]\tLoss: 0.008274\n",
            "\n",
            "Test set: Average loss: 0.2078, Accuracy: 433/455 (95%)\n",
            "\n",
            "Train Epoch: 14 [0/1366 (0.000000%)]\tLoss: 0.000627\n",
            "\n",
            "Test set: Average loss: 0.2588, Accuracy: 429/455 (94%)\n",
            "\n",
            "Train Epoch: 15 [0/1366 (0.000000%)]\tLoss: 0.000898\n",
            "\n",
            "Test set: Average loss: 0.2035, Accuracy: 432/455 (95%)\n",
            "\n",
            "Train Epoch: 16 [0/1366 (0.000000%)]\tLoss: 0.000706\n",
            "\n",
            "Test set: Average loss: 0.2407, Accuracy: 432/455 (95%)\n",
            "\n",
            "Train Epoch: 17 [0/1366 (0.000000%)]\tLoss: 0.001356\n",
            "\n",
            "Test set: Average loss: 0.2104, Accuracy: 432/455 (95%)\n",
            "\n",
            "Train Epoch: 18 [0/1366 (0.000000%)]\tLoss: 0.001681\n",
            "\n",
            "Test set: Average loss: 0.1996, Accuracy: 431/455 (95%)\n",
            "\n",
            "Train Epoch: 19 [0/1366 (0.000000%)]\tLoss: 0.000340\n",
            "\n",
            "Test set: Average loss: 0.1938, Accuracy: 436/455 (96%)\n",
            "\n",
            "Train Epoch: 20 [0/1366 (0.000000%)]\tLoss: 0.000747\n",
            "\n",
            "Test set: Average loss: 0.2184, Accuracy: 434/455 (95%)\n",
            "\n"
          ],
          "name": "stdout"
        }
      ]
    },
    {
      "cell_type": "code",
      "metadata": {
        "colab": {
          "base_uri": "https://localhost:8080/",
          "height": 265
        },
        "id": "_4Nw08AIDCKZ",
        "outputId": "2fc34053-28ba-4c54-d700-65c2694b14ab"
      },
      "source": [
        "\n",
        "plt.semilogy(train_losses);\n"
      ],
      "execution_count": 39,
      "outputs": [
        {
          "output_type": "display_data",
          "data": {
            "image/png": "[encoded data removed]",
            "text/plain": [
              "<Figure size 432x288 with 1 Axes>"
            ]
          },
          "metadata": {
            "tags": [],
            "needs_background": "light"
          }
        }
      ]
    },
    {
      "cell_type": "code",
      "metadata": {
        "colab": {
          "base_uri": "https://localhost:8080/",
          "height": 265
        },
        "id": "EOdfU3OYMhcA",
        "outputId": "cd8ea2d0-9857-408c-fbba-1f13164d5d66"
      },
      "source": [
        "\n",
        "plt.semilogy(test_losses);"
      ],
      "execution_count": 40,
      "outputs": [
        {
          "output_type": "display_data",
          "data": {
            "image/png": "[encoded data removed]",
            "text/plain": [
              "<Figure size 432x288 with 1 Axes>"
            ]
          },
          "metadata": {
            "tags": [],
            "needs_background": "light"
          }
        }
      ]
    },
    {
      "cell_type": "code",
      "metadata": {
        "colab": {
          "base_uri": "https://localhost:8080/"
        },
        "id": "4LfnUUM8vlTM",
        "outputId": "3a9c1185-827c-45e8-defe-687eef8404cc"
      },
      "source": [
        "count_0 = 0\n",
        "count_1 = 0\n",
        "count_2 = 0\n",
        "for i,j in test_dataset:\n",
        "  if j ==torch.tensor(0):\n",
        "    count_0 += 1\n",
        "  elif j == torch.tensor(1):\n",
        "    count_1+=1\n",
        "  elif j==torch.tensor(2):\n",
        "    count_2 +=1\n",
        "print([count_0,count_1,count_2])"
      ],
      "execution_count": 95,
      "outputs": [
        {
          "output_type": "stream",
          "text": [
            "[65, 365, 26]\n"
          ],
          "name": "stdout"
        }
      ]
    },
    {
      "cell_type": "code",
      "metadata": {
        "colab": {
          "base_uri": "https://localhost:8080/"
        },
        "id": "sS4TfP94A2wC",
        "outputId": "0f872929-713e-42ef-9490-e412ab93db24"
      },
      "source": [
        "test(model,device,test_loader)"
      ],
      "execution_count": 41,
      "outputs": [
        {
          "output_type": "stream",
          "text": [
            "\n",
            "Test set: Average loss: 0.1293, Accuracy: 440/456 (96%)\n",
            "\n"
          ],
          "name": "stdout"
        },
        {
          "output_type": "execute_result",
          "data": {
            "text/plain": [
              "0.12929024007334783"
            ]
          },
          "metadata": {
            "tags": []
          },
          "execution_count": 41
        }
      ]
    },
    {
      "cell_type": "code",
      "metadata": {
        "colab": {
          "base_uri": "https://localhost:8080/",
          "height": 302
        },
        "id": "2XLuM_l_NqSq",
        "outputId": "991f9066-ae41-46ef-cdb5-21981ba8f70e"
      },
      "source": [
        "from PIL import Image\n",
        "import cv2\n",
        "img = cv2.imread('/content/drive/MyDrive/kd_test/2.png')\n",
        "\n",
        "img = cv2.resize(img,(64,64))\n",
        "\n",
        "img = cv2.cvtColor(img, cv2.COLOR_BGR2RGB)\n",
        "plt.imshow(img)\n",
        "\n",
        "\n",
        "img = img.transpose((2, 0, 1))\n",
        "img = torch.as_tensor(img, dtype=torch.float32)/255\n",
        "img = img.view(1, 3, 64,64)\n",
        "output = model(img.to(device))\n",
        "pred = output.argmax(dim=1, keepdim=True)\n",
        "print(output)\n",
        "print(pred)"
      ],
      "execution_count": 44,
      "outputs": [
        {
          "output_type": "stream",
          "text": [
            "tensor([[-4.3612,  3.0907,  2.7092]], device='cuda:0', grad_fn=<AddmmBackward>)\n",
            "tensor([[1]], device='cuda:0')\n"
          ],
          "name": "stdout"
        },
        {
          "output_type": "display_data",
          "data": {
            "image/png": "[encoded data removed]",
            "text/plain": [
              "<Figure size 432x288 with 1 Axes>"
            ]
          },
          "metadata": {
            "tags": [],
            "needs_background": "light"
          }
        }
      ]
    },
    {
      "cell_type": "code",
      "metadata": {
        "id": "BKSjnP61vgw5"
      },
      "source": [
        "def get_all_preds(model, loader,device):\n",
        "    all_preds = torch.tensor([])\n",
        "    targets =torch.tensor([])\n",
        "    with torch.no_grad():\n",
        "        for batch in loader:\n",
        "            img, label = batch\n",
        "            img, label = img.to(device), label.to(device)\n",
        "            preds = torch.Tensor.cpu(model(img))\n",
        "            all_preds = torch.cat(\n",
        "                (all_preds, preds)\n",
        "                ,dim=0\n",
        "            )\n",
        "            targets = torch.cat((targets,torch.Tensor.cpu(label)),dim = 0)\n",
        "    return all_preds, targets.int()"
      ],
      "execution_count": 45,
      "outputs": []
    },
    {
      "cell_type": "code",
      "metadata": {
        "id": "JJiek3j4r5ME"
      },
      "source": [
        "from sklearn.metrics import confusion_matrix\n",
        "import itertools"
      ],
      "execution_count": 46,
      "outputs": []
    },
    {
      "cell_type": "code",
      "metadata": {
        "id": "Bu95uCc5thII"
      },
      "source": [
        "def plot_confusion_matrix(cm, classes, normalize=False, title='Confusion matrix', cmap=plt.cm.Blues):\n",
        "    if normalize:\n",
        "        cm = cm.astype('float') / cm.sum(axis=1)[:, np.newaxis]\n",
        "        print(\"Normalized confusion matrix\")\n",
        "    else:\n",
        "        print('Confusion matrix, without normalization')\n",
        "\n",
        "    print(cm)\n",
        "    plt.imshow(cm, interpolation='nearest', cmap=cmap)\n",
        "    plt.title(title)\n",
        "    plt.colorbar()\n",
        "    tick_marks = np.arange(len(classes))\n",
        "    plt.xticks(tick_marks, classes, rotation=45)\n",
        "    plt.yticks(tick_marks, classes)\n",
        "\n",
        "    fmt = '.2f' if normalize else 'd'\n",
        "    thresh = cm.max() / 2.\n",
        "    for i, j in itertools.product(range(cm.shape[0]), range(cm.shape[1])):\n",
        "        plt.text(j, i, format(cm[i, j], fmt), horizontalalignment=\"center\", color=\"white\" if cm[i, j] > thresh else \"black\")\n",
        "\n",
        "    plt.tight_layout()\n",
        "    plt.ylabel('True label')\n",
        "    plt.xlabel('Predicted label')"
      ],
      "execution_count": 47,
      "outputs": []
    },
    {
      "cell_type": "code",
      "metadata": {
        "colab": {
          "base_uri": "https://localhost:8080/",
          "height": 380
        },
        "id": "cC888IF0t0A-",
        "outputId": "94557d1f-dd22-4e10-8827-92d5e050fc7f"
      },
      "source": [
        "preds,targets = get_all_preds(model, test_loader,device)\n",
        "cm = confusion_matrix(targets,preds.argmax(dim = 1))\n",
        "plot_confusion_matrix(cm,['unmasked','masked','incorrectly_masked'])"
      ],
      "execution_count": 48,
      "outputs": [
        {
          "output_type": "stream",
          "text": [
            "Confusion matrix, without normalization\n",
            "[[ 52   1   0]\n",
            " [  1 359   7]\n",
            " [  3   4  29]]\n"
          ],
          "name": "stdout"
        },
        {
          "output_type": "display_data",
          "data": {
            "image/png": "[encoded data removed]",
            "text/plain": [
              "<Figure size 432x288 with 2 Axes>"
            ]
          },
          "metadata": {
            "tags": [],
            "needs_background": "light"
          }
        }
      ]
    },
    {
      "cell_type": "code",
      "metadata": {
        "colab": {
          "base_uri": "https://localhost:8080/",
          "height": 17
        },
        "id": "fboS7PEu2O2P",
        "outputId": "9dc1b37a-2950-499e-b323-da37fa2cf5f2"
      },
      "source": [
        "from google.colab import files\n",
        "torch.save(model, 'model.pth')\n",
        "\n",
        "# download checkpoint file\n",
        "files.download('model.pth')"
      ],
      "execution_count": 50,
      "outputs": [
        {
          "output_type": "display_data",
          "data": {
            "application/javascript": [
              "\n",
              "    async function download(id, filename, size) {\n",
              "      if (!google.colab.kernel.accessAllowed) {\n",
              "        return;\n",
              "      }\n",
              "      const div = document.createElement('div');\n",
              "      const label = document.createElement('label');\n",
              "      label.textContent = `Downloading \"${filename}\": `;\n",
              "      div.appendChild(label);\n",
              "      const progress = document.createElement('progress');\n",
              "      progress.max = size;\n",
              "      div.appendChild(progress);\n",
              "      document.body.appendChild(div);\n",
              "\n",
              "      const buffers = [];\n",
              "      let downloaded = 0;\n",
              "\n",
              "      const channel = await google.colab.kernel.comms.open(id);\n",
              "      // Send a message to notify the kernel that we're ready.\n",
              "      channel.send({})\n",
              "\n",
              "      for await (const message of channel.messages) {\n",
              "        // Send a message to notify the kernel that we're ready.\n",
              "        channel.send({})\n",
              "        if (message.buffers) {\n",
              "          for (const buffer of message.buffers) {\n",
              "            buffers.push(buffer);\n",
              "            downloaded += buffer.byteLength;\n",
              "            progress.value = downloaded;\n",
              "          }\n",
              "        }\n",
              "      }\n",
              "      const blob = new Blob(buffers, {type: 'application/binary'});\n",
              "      const a = document.createElement('a');\n",
              "      a.href = window.URL.createObjectURL(blob);\n",
              "      a.download = filename;\n",
              "      div.appendChild(a);\n",
              "      a.click();\n",
              "      div.remove();\n",
              "    }\n",
              "  "
            ],
            "text/plain": [
              "<IPython.core.display.Javascript object>"
            ]
          },
          "metadata": {
            "tags": []
          }
        },
        {
          "output_type": "display_data",
          "data": {
            "application/javascript": [
              "download(\"download_45e2eb85-55f9-4920-8a60-73c97b4b5483\", \"model.pth\", 94395778)"
            ],
            "text/plain": [
              "<IPython.core.display.Javascript object>"
            ]
          },
          "metadata": {
            "tags": []
          }
        }
      ]
    },
    {
      "cell_type": "code",
      "metadata": {
        "id": "SfsGyyz7lKut"
      },
      "source": [
        ""
      ],
      "execution_count": null,
      "outputs": []
    }
  ]
}